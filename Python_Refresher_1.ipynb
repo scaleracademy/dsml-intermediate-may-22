{
  "nbformat": 4,
  "nbformat_minor": 0,
  "metadata": {
    "colab": {
      "name": "Python Refresher 1",
      "provenance": [],
      "authorship_tag": "ABX9TyMoKyHKVj4mMIirNS/+A5Tg",
      "include_colab_link": true
    },
    "kernelspec": {
      "name": "python3",
      "display_name": "Python 3"
    },
    "language_info": {
      "name": "python"
    }
  },
  "cells": [
    {
      "cell_type": "markdown",
      "metadata": {
        "id": "view-in-github",
        "colab_type": "text"
      },
      "source": [
        "<a href=\"https://colab.research.google.com/github/scaleracademy/dsml-intermediate-may-22/blob/main/Python_Refresher_1.ipynb\" target=\"_parent\"><img src=\"https://colab.research.google.com/assets/colab-badge.svg\" alt=\"Open In Colab\"/></a>"
      ]
    },
    {
      "cell_type": "code",
      "execution_count": null,
      "metadata": {
        "colab": {
          "base_uri": "https://localhost:8080/"
        },
        "id": "ExKm221Og_6R",
        "outputId": "efb7ca0f-7c6c-45aa-b0a8-a77a8cbd0c7f"
      },
      "outputs": [
        {
          "output_type": "stream",
          "name": "stdout",
          "text": [
            "Hello World\n"
          ]
        }
      ],
      "source": [
        "print(\"Hello World\")"
      ]
    },
    {
      "cell_type": "code",
      "source": [
        "a = 5"
      ],
      "metadata": {
        "id": "qaQY6sMjhkyD"
      },
      "execution_count": null,
      "outputs": []
    },
    {
      "cell_type": "code",
      "source": [
        "print(a)"
      ],
      "metadata": {
        "colab": {
          "base_uri": "https://localhost:8080/"
        },
        "id": "OBzZ-LB9jnqA",
        "outputId": "7ee4fa31-258f-491a-e6ef-16b85fbba3da"
      },
      "execution_count": null,
      "outputs": [
        {
          "output_type": "stream",
          "name": "stdout",
          "text": [
            "5\n"
          ]
        }
      ]
    },
    {
      "cell_type": "code",
      "source": [
        "a = 1.5"
      ],
      "metadata": {
        "id": "0d43A2Tgjra_"
      },
      "execution_count": null,
      "outputs": []
    },
    {
      "cell_type": "code",
      "source": [
        "print(a)"
      ],
      "metadata": {
        "colab": {
          "base_uri": "https://localhost:8080/"
        },
        "id": "E4vHnR4ZkBSo",
        "outputId": "43cbea88-17b0-4288-c4d3-c1ae5b1e5984"
      },
      "execution_count": null,
      "outputs": [
        {
          "output_type": "stream",
          "name": "stdout",
          "text": [
            "1.5\n"
          ]
        }
      ]
    },
    {
      "cell_type": "code",
      "source": [
        "isinstance('hello', object)"
      ],
      "metadata": {
        "colab": {
          "base_uri": "https://localhost:8080/"
        },
        "id": "wHZ5aLxFlH8q",
        "outputId": "980e0eac-2c89-42f5-f039-bbc3278127f4"
      },
      "execution_count": null,
      "outputs": [
        {
          "output_type": "execute_result",
          "data": {
            "text/plain": [
              "True"
            ]
          },
          "metadata": {},
          "execution_count": 10
        }
      ]
    },
    {
      "cell_type": "code",
      "source": [
        "a = 'jatin'"
      ],
      "metadata": {
        "id": "psBvFSC1lMmR"
      },
      "execution_count": null,
      "outputs": []
    },
    {
      "cell_type": "code",
      "source": [
        "print(a)"
      ],
      "metadata": {
        "colab": {
          "base_uri": "https://localhost:8080/"
        },
        "id": "0HlHCfNGlseb",
        "outputId": "51b78109-2168-43fc-9994-1d7d46e6cb8b"
      },
      "execution_count": null,
      "outputs": [
        {
          "output_type": "stream",
          "name": "stdout",
          "text": [
            "jatin\n"
          ]
        }
      ]
    },
    {
      "cell_type": "code",
      "source": [
        "type(print)"
      ],
      "metadata": {
        "colab": {
          "base_uri": "https://localhost:8080/"
        },
        "id": "wg0IJx8OltdL",
        "outputId": "76bb9612-e51e-4d11-989f-debc6d576fc2"
      },
      "execution_count": null,
      "outputs": [
        {
          "output_type": "execute_result",
          "data": {
            "text/plain": [
              "builtin_function_or_method"
            ]
          },
          "metadata": {},
          "execution_count": 13
        }
      ]
    },
    {
      "cell_type": "code",
      "source": [
        "a = 3j"
      ],
      "metadata": {
        "id": "40-tBGqxlyh2"
      },
      "execution_count": null,
      "outputs": []
    },
    {
      "cell_type": "code",
      "source": [
        "print(a + 1)"
      ],
      "metadata": {
        "colab": {
          "base_uri": "https://localhost:8080/"
        },
        "id": "m2jrdI25nE8m",
        "outputId": "5824f1af-2a59-4d43-fd84-e20ad4c40cc5"
      },
      "execution_count": null,
      "outputs": [
        {
          "output_type": "stream",
          "name": "stdout",
          "text": [
            "(1+3j)\n"
          ]
        }
      ]
    },
    {
      "cell_type": "code",
      "source": [
        "1.4 + 1.2 + 1.6"
      ],
      "metadata": {
        "colab": {
          "base_uri": "https://localhost:8080/"
        },
        "id": "nvVmRdpcnGbU",
        "outputId": "c0424ae6-f86c-4622-b988-f34d2f916cc2"
      },
      "execution_count": null,
      "outputs": [
        {
          "output_type": "execute_result",
          "data": {
            "text/plain": [
              "4.199999999999999"
            ]
          },
          "metadata": {},
          "execution_count": 18
        }
      ]
    },
    {
      "cell_type": "code",
      "source": [
        "1.4 + 1.6 + 1.2"
      ],
      "metadata": {
        "colab": {
          "base_uri": "https://localhost:8080/"
        },
        "id": "ACns6fRnnWhn",
        "outputId": "da1abd39-3010-4205-f946-6b4280b62a0c"
      },
      "execution_count": null,
      "outputs": [
        {
          "output_type": "execute_result",
          "data": {
            "text/plain": [
              "4.2"
            ]
          },
          "metadata": {},
          "execution_count": 19
        }
      ]
    },
    {
      "cell_type": "code",
      "source": [
        ""
      ],
      "metadata": {
        "id": "YmWw0Dlfnfg_"
      },
      "execution_count": null,
      "outputs": []
    },
    {
      "cell_type": "markdown",
      "source": [
        "# Arithmetic Operators\n",
        "- +\n",
        "- -\n",
        "- *\n",
        "- /\n",
        "- %\n",
        "- // (floored division)\n",
        "- ** (exponentiation operator)"
      ],
      "metadata": {
        "id": "KEnyqlrDoBIi"
      }
    },
    {
      "cell_type": "code",
      "source": [
        "10 + 5"
      ],
      "metadata": {
        "colab": {
          "base_uri": "https://localhost:8080/"
        },
        "id": "aCyRf-_KoJsH",
        "outputId": "518c6440-187d-43ec-a227-496b365b9c1f"
      },
      "execution_count": null,
      "outputs": [
        {
          "output_type": "execute_result",
          "data": {
            "text/plain": [
              "15"
            ]
          },
          "metadata": {},
          "execution_count": 20
        }
      ]
    },
    {
      "cell_type": "code",
      "source": [
        "20 - 5"
      ],
      "metadata": {
        "colab": {
          "base_uri": "https://localhost:8080/"
        },
        "id": "GyfvxoEvoOqV",
        "outputId": "0dc4d290-820c-42d4-cb0d-aeb087eaa175"
      },
      "execution_count": null,
      "outputs": [
        {
          "output_type": "execute_result",
          "data": {
            "text/plain": [
              "15"
            ]
          },
          "metadata": {},
          "execution_count": 21
        }
      ]
    },
    {
      "cell_type": "code",
      "source": [
        "5 * 3"
      ],
      "metadata": {
        "colab": {
          "base_uri": "https://localhost:8080/"
        },
        "id": "-eqsQ3XtoQh6",
        "outputId": "6a837571-f98d-4b6c-9584-2efafeffc117"
      },
      "execution_count": null,
      "outputs": [
        {
          "output_type": "execute_result",
          "data": {
            "text/plain": [
              "15"
            ]
          },
          "metadata": {},
          "execution_count": 22
        }
      ]
    },
    {
      "cell_type": "code",
      "source": [
        "10 / 5"
      ],
      "metadata": {
        "colab": {
          "base_uri": "https://localhost:8080/"
        },
        "id": "ixveHQSvoUFi",
        "outputId": "d641b6d9-aec9-48c5-a4d8-2b6c1b1f12d0"
      },
      "execution_count": null,
      "outputs": [
        {
          "output_type": "execute_result",
          "data": {
            "text/plain": [
              "2.0"
            ]
          },
          "metadata": {},
          "execution_count": 25
        }
      ]
    },
    {
      "cell_type": "code",
      "source": [
        "10 // 5"
      ],
      "metadata": {
        "colab": {
          "base_uri": "https://localhost:8080/"
        },
        "id": "kTCckANqoX5a",
        "outputId": "4e87d1e3-349c-4ccc-d408-4853641988f5"
      },
      "execution_count": null,
      "outputs": [
        {
          "output_type": "execute_result",
          "data": {
            "text/plain": [
              "2"
            ]
          },
          "metadata": {},
          "execution_count": 26
        }
      ]
    },
    {
      "cell_type": "code",
      "source": [
        "15.5 // 3"
      ],
      "metadata": {
        "colab": {
          "base_uri": "https://localhost:8080/"
        },
        "id": "47hEv7NboqNa",
        "outputId": "a8402a1f-4cfa-470a-94fb-9a02a32f36f1"
      },
      "execution_count": null,
      "outputs": [
        {
          "output_type": "execute_result",
          "data": {
            "text/plain": [
              "5.0"
            ]
          },
          "metadata": {},
          "execution_count": 27
        }
      ]
    },
    {
      "cell_type": "code",
      "source": [
        "-8 // 3"
      ],
      "metadata": {
        "colab": {
          "base_uri": "https://localhost:8080/"
        },
        "id": "14gCwcRoo8zG",
        "outputId": "b45e3a9f-6a22-4034-95e4-abbb5541c4a9"
      },
      "execution_count": null,
      "outputs": [
        {
          "output_type": "execute_result",
          "data": {
            "text/plain": [
              "-3"
            ]
          },
          "metadata": {},
          "execution_count": 28
        }
      ]
    },
    {
      "cell_type": "code",
      "source": [
        "-8 / 3"
      ],
      "metadata": {
        "colab": {
          "base_uri": "https://localhost:8080/"
        },
        "id": "nNI3FUdNpqHA",
        "outputId": "54bf8cd9-ffe2-4fa8-ec87-5c0c1b95f78a"
      },
      "execution_count": null,
      "outputs": [
        {
          "output_type": "execute_result",
          "data": {
            "text/plain": [
              "-2.6666666666666665"
            ]
          },
          "metadata": {},
          "execution_count": 29
        }
      ]
    },
    {
      "cell_type": "code",
      "source": [
        "2 ** 5"
      ],
      "metadata": {
        "colab": {
          "base_uri": "https://localhost:8080/"
        },
        "id": "ypLHRlNfpuYU",
        "outputId": "16e8ae06-2444-4884-da87-bebc4a2bfe32"
      },
      "execution_count": null,
      "outputs": [
        {
          "output_type": "execute_result",
          "data": {
            "text/plain": [
              "32"
            ]
          },
          "metadata": {},
          "execution_count": 30
        }
      ]
    },
    {
      "cell_type": "code",
      "source": [
        "-10 % 3"
      ],
      "metadata": {
        "colab": {
          "base_uri": "https://localhost:8080/"
        },
        "id": "9HLGZeD_p-K4",
        "outputId": "17ae73fe-21e1-40f8-e438-f886c9b66125"
      },
      "execution_count": null,
      "outputs": [
        {
          "output_type": "execute_result",
          "data": {
            "text/plain": [
              "2"
            ]
          },
          "metadata": {},
          "execution_count": 32
        }
      ]
    },
    {
      "cell_type": "code",
      "source": [
        ""
      ],
      "metadata": {
        "id": "mlsTdaANqlIm"
      },
      "execution_count": null,
      "outputs": []
    },
    {
      "cell_type": "markdown",
      "source": [
        "# Variable Naming Rules\n",
        "1. It should only contain alphanumerics [a-z A-Z 0-9] and underscore [_]\n",
        "2. Every name should ONLY start with alphabets [a-z A-Z] or underscore [_]"
      ],
      "metadata": {
        "id": "oe-59OwHroOP"
      }
    },
    {
      "cell_type": "code",
      "source": [
        "ab%s = 5"
      ],
      "metadata": {
        "colab": {
          "base_uri": "https://localhost:8080/",
          "height": 132
        },
        "id": "j6HOoE0dsEUi",
        "outputId": "f7813cbc-2acb-4e2c-dcae-7da42de3203b"
      },
      "execution_count": null,
      "outputs": [
        {
          "output_type": "error",
          "ename": "SyntaxError",
          "evalue": "ignored",
          "traceback": [
            "\u001b[0;36m  File \u001b[0;32m\"<ipython-input-33-a6286d5198a4>\"\u001b[0;36m, line \u001b[0;32m1\u001b[0m\n\u001b[0;31m    ab%s = 5\u001b[0m\n\u001b[0m            ^\u001b[0m\n\u001b[0;31mSyntaxError\u001b[0m\u001b[0;31m:\u001b[0m can't assign to operator\n"
          ]
        }
      ]
    },
    {
      "cell_type": "code",
      "source": [
        "ab5sdf4532 = 123"
      ],
      "metadata": {
        "id": "puoZisStsK7l"
      },
      "execution_count": null,
      "outputs": []
    },
    {
      "cell_type": "code",
      "source": [
        "_abc = 10"
      ],
      "metadata": {
        "id": "3hOwDeILsM_y"
      },
      "execution_count": null,
      "outputs": []
    },
    {
      "cell_type": "code",
      "source": [
        "_ = 10"
      ],
      "metadata": {
        "id": "Vn8G7weHsPab"
      },
      "execution_count": null,
      "outputs": []
    },
    {
      "cell_type": "code",
      "source": [
        "id(_)"
      ],
      "metadata": {
        "colab": {
          "base_uri": "https://localhost:8080/"
        },
        "id": "lbor_c8osRtd",
        "outputId": "93c9c7ee-c7dd-426d-daa7-fe0f9710d920"
      },
      "execution_count": null,
      "outputs": [
        {
          "output_type": "execute_result",
          "data": {
            "text/plain": [
              "11256352"
            ]
          },
          "metadata": {},
          "execution_count": 37
        }
      ]
    },
    {
      "cell_type": "code",
      "source": [
        "init = 10"
      ],
      "metadata": {
        "id": "raV6iUcLsX3c"
      },
      "execution_count": null,
      "outputs": []
    },
    {
      "cell_type": "code",
      "source": [
        "__init__ = 10"
      ],
      "metadata": {
        "id": "KR9fHKzMsibY"
      },
      "execution_count": null,
      "outputs": []
    },
    {
      "cell_type": "code",
      "source": [
        "-8 % -3"
      ],
      "metadata": {
        "colab": {
          "base_uri": "https://localhost:8080/"
        },
        "id": "cGWZfl8vslAm",
        "outputId": "2c548c13-9b73-4245-ad5e-10768d8d3aac"
      },
      "execution_count": null,
      "outputs": [
        {
          "output_type": "execute_result",
          "data": {
            "text/plain": [
              "-2"
            ]
          },
          "metadata": {},
          "execution_count": 41
        }
      ]
    },
    {
      "cell_type": "code",
      "source": [
        "a = 20"
      ],
      "metadata": {
        "id": "3MhRBYJFu9g2"
      },
      "execution_count": null,
      "outputs": []
    },
    {
      "cell_type": "code",
      "source": [
        "a = 30"
      ],
      "metadata": {
        "id": "pngvNevGvN-3"
      },
      "execution_count": null,
      "outputs": []
    },
    {
      "cell_type": "code",
      "source": [
        "a = 500"
      ],
      "metadata": {
        "id": "M1O1SqifvPKZ"
      },
      "execution_count": null,
      "outputs": []
    },
    {
      "cell_type": "code",
      "source": [
        "globals()"
      ],
      "metadata": {
        "colab": {
          "base_uri": "https://localhost:8080/"
        },
        "id": "iYujsbyWvSdl",
        "outputId": "a111bb9c-33d5-4517-c99f-0dc047109ecc"
      },
      "execution_count": null,
      "outputs": [
        {
          "output_type": "execute_result",
          "data": {
            "text/plain": [
              "{'In': ['',\n",
              "  'print(\"Hello World\")',\n",
              "  'a = 5',\n",
              "  'print(a)',\n",
              "  'a = 1.5',\n",
              "  'print(a)',\n",
              "  'isinstance(5, int)',\n",
              "  'isinstance(5, string)',\n",
              "  'isinstance(5, str)',\n",
              "  'isinstance(5, object)',\n",
              "  \"isinstance('hello', object)\",\n",
              "  \"a = 'jatin'\",\n",
              "  'print(a)',\n",
              "  'type(print)',\n",
              "  'a = 3j',\n",
              "  'print(A)',\n",
              "  'print(a)',\n",
              "  'print(a + 1)',\n",
              "  '1.4 + 1.2 + 1.6',\n",
              "  '1.4 + 1.6 + 1.2',\n",
              "  '10 + 5',\n",
              "  '20 - 5',\n",
              "  '5 * 3',\n",
              "  '10 / 5',\n",
              "  'type(10 / 5)',\n",
              "  '10 / 5',\n",
              "  '10 // 5',\n",
              "  '15.5 // 3',\n",
              "  '-8 // 3',\n",
              "  '-8 / 3',\n",
              "  '2 ** 5',\n",
              "  '10 % 3',\n",
              "  '-10 % 3',\n",
              "  'ab%s = 5',\n",
              "  'ab5sdf4532 = 123',\n",
              "  '_abc = 10',\n",
              "  '_ = 10',\n",
              "  'id(_)',\n",
              "  'init = 10',\n",
              "  '__init__ = 10',\n",
              "  '-8 & -1',\n",
              "  '-8 % -3',\n",
              "  'a = 20',\n",
              "  'a = 30',\n",
              "  'a = 500',\n",
              "  'globals()'],\n",
              " 'Out': {6: True,\n",
              "  8: False,\n",
              "  9: True,\n",
              "  10: True,\n",
              "  13: builtin_function_or_method,\n",
              "  18: 4.199999999999999,\n",
              "  19: 4.2,\n",
              "  20: 15,\n",
              "  21: 15,\n",
              "  22: 15,\n",
              "  23: 2.0,\n",
              "  24: float,\n",
              "  25: 2.0,\n",
              "  26: 2,\n",
              "  27: 5.0,\n",
              "  28: -3,\n",
              "  29: -2.6666666666666665,\n",
              "  30: 32,\n",
              "  31: 1,\n",
              "  32: 2,\n",
              "  37: 11256352,\n",
              "  40: -8,\n",
              "  41: -2},\n",
              " '_': -2,\n",
              " '_10': True,\n",
              " '_13': builtin_function_or_method,\n",
              " '_18': 4.199999999999999,\n",
              " '_19': 4.2,\n",
              " '_20': 15,\n",
              " '_21': 15,\n",
              " '_22': 15,\n",
              " '_23': 2.0,\n",
              " '_24': float,\n",
              " '_25': 2.0,\n",
              " '_26': 2,\n",
              " '_27': 5.0,\n",
              " '_28': -3,\n",
              " '_29': -2.6666666666666665,\n",
              " '_30': 32,\n",
              " '_31': 1,\n",
              " '_32': 2,\n",
              " '_37': 11256352,\n",
              " '_40': -8,\n",
              " '_41': -2,\n",
              " '_6': True,\n",
              " '_8': False,\n",
              " '_9': True,\n",
              " '__': -8,\n",
              " '___': 11256352,\n",
              " '__builtin__': <module 'builtins' (built-in)>,\n",
              " '__builtins__': <module 'builtins' (built-in)>,\n",
              " '__doc__': 'Automatically created module for IPython interactive environment',\n",
              " '__init__': 10,\n",
              " '__loader__': None,\n",
              " '__name__': '__main__',\n",
              " '__package__': None,\n",
              " '__spec__': None,\n",
              " '_abc': 10,\n",
              " '_dh': ['/content'],\n",
              " '_i': 'a = 500',\n",
              " '_i1': 'print(\"Hello World\")',\n",
              " '_i10': \"isinstance('hello', object)\",\n",
              " '_i11': \"a = 'jatin'\",\n",
              " '_i12': 'print(a)',\n",
              " '_i13': 'type(print)',\n",
              " '_i14': 'a = 3j',\n",
              " '_i15': 'print(A)',\n",
              " '_i16': 'print(a)',\n",
              " '_i17': 'print(a + 1)',\n",
              " '_i18': '1.4 + 1.2 + 1.6',\n",
              " '_i19': '1.4 + 1.6 + 1.2',\n",
              " '_i2': 'a = 5',\n",
              " '_i20': '10 + 5',\n",
              " '_i21': '20 - 5',\n",
              " '_i22': '5 * 3',\n",
              " '_i23': '10 / 5',\n",
              " '_i24': 'type(10 / 5)',\n",
              " '_i25': '10 / 5',\n",
              " '_i26': '10 // 5',\n",
              " '_i27': '15.5 // 3',\n",
              " '_i28': '-8 // 3',\n",
              " '_i29': '-8 / 3',\n",
              " '_i3': 'print(a)',\n",
              " '_i30': '2 ** 5',\n",
              " '_i31': '10 % 3',\n",
              " '_i32': '-10 % 3',\n",
              " '_i33': 'ab%s = 5',\n",
              " '_i34': 'ab5sdf4532 = 123',\n",
              " '_i35': '_abc = 10',\n",
              " '_i36': '_ = 10',\n",
              " '_i37': 'id(_)',\n",
              " '_i38': 'init = 10',\n",
              " '_i39': '__init__ = 10',\n",
              " '_i4': 'a = 1.5',\n",
              " '_i40': '-8 & -1',\n",
              " '_i41': '-8 % -3',\n",
              " '_i42': 'a = 20',\n",
              " '_i43': 'a = 30',\n",
              " '_i44': 'a = 500',\n",
              " '_i45': 'globals()',\n",
              " '_i5': 'print(a)',\n",
              " '_i6': 'isinstance(5, int)',\n",
              " '_i7': 'isinstance(5, string)',\n",
              " '_i8': 'isinstance(5, str)',\n",
              " '_i9': 'isinstance(5, object)',\n",
              " '_ih': ['',\n",
              "  'print(\"Hello World\")',\n",
              "  'a = 5',\n",
              "  'print(a)',\n",
              "  'a = 1.5',\n",
              "  'print(a)',\n",
              "  'isinstance(5, int)',\n",
              "  'isinstance(5, string)',\n",
              "  'isinstance(5, str)',\n",
              "  'isinstance(5, object)',\n",
              "  \"isinstance('hello', object)\",\n",
              "  \"a = 'jatin'\",\n",
              "  'print(a)',\n",
              "  'type(print)',\n",
              "  'a = 3j',\n",
              "  'print(A)',\n",
              "  'print(a)',\n",
              "  'print(a + 1)',\n",
              "  '1.4 + 1.2 + 1.6',\n",
              "  '1.4 + 1.6 + 1.2',\n",
              "  '10 + 5',\n",
              "  '20 - 5',\n",
              "  '5 * 3',\n",
              "  '10 / 5',\n",
              "  'type(10 / 5)',\n",
              "  '10 / 5',\n",
              "  '10 // 5',\n",
              "  '15.5 // 3',\n",
              "  '-8 // 3',\n",
              "  '-8 / 3',\n",
              "  '2 ** 5',\n",
              "  '10 % 3',\n",
              "  '-10 % 3',\n",
              "  'ab%s = 5',\n",
              "  'ab5sdf4532 = 123',\n",
              "  '_abc = 10',\n",
              "  '_ = 10',\n",
              "  'id(_)',\n",
              "  'init = 10',\n",
              "  '__init__ = 10',\n",
              "  '-8 & -1',\n",
              "  '-8 % -3',\n",
              "  'a = 20',\n",
              "  'a = 30',\n",
              "  'a = 500',\n",
              "  'globals()'],\n",
              " '_ii': 'a = 30',\n",
              " '_iii': 'a = 20',\n",
              " '_oh': {6: True,\n",
              "  8: False,\n",
              "  9: True,\n",
              "  10: True,\n",
              "  13: builtin_function_or_method,\n",
              "  18: 4.199999999999999,\n",
              "  19: 4.2,\n",
              "  20: 15,\n",
              "  21: 15,\n",
              "  22: 15,\n",
              "  23: 2.0,\n",
              "  24: float,\n",
              "  25: 2.0,\n",
              "  26: 2,\n",
              "  27: 5.0,\n",
              "  28: -3,\n",
              "  29: -2.6666666666666665,\n",
              "  30: 32,\n",
              "  31: 1,\n",
              "  32: 2,\n",
              "  37: 11256352,\n",
              "  40: -8,\n",
              "  41: -2},\n",
              " '_sh': <module 'IPython.core.shadowns' from '/usr/local/lib/python3.7/dist-packages/IPython/core/shadowns.py'>,\n",
              " 'a': 500,\n",
              " 'ab5sdf4532': 123,\n",
              " 'exit': <IPython.core.autocall.ZMQExitAutocall at 0x7fd886103ed0>,\n",
              " 'get_ipython': <bound method InteractiveShell.get_ipython of <google.colab._shell.Shell object at 0x7fd88817fad0>>,\n",
              " 'init': 10,\n",
              " 'quit': <IPython.core.autocall.ZMQExitAutocall at 0x7fd886103ed0>}"
            ]
          },
          "metadata": {},
          "execution_count": 45
        }
      ]
    },
    {
      "cell_type": "code",
      "source": [
        "a = 5"
      ],
      "metadata": {
        "id": "hpY3unZfv-cr"
      },
      "execution_count": null,
      "outputs": []
    },
    {
      "cell_type": "code",
      "source": [
        "id(a)"
      ],
      "metadata": {
        "colab": {
          "base_uri": "https://localhost:8080/"
        },
        "id": "xR1JVeoswW22",
        "outputId": "21d41f9a-65ae-446a-a3ff-0cc1ec6a0a5c"
      },
      "execution_count": null,
      "outputs": [
        {
          "output_type": "execute_result",
          "data": {
            "text/plain": [
              "11256192"
            ]
          },
          "metadata": {},
          "execution_count": 47
        }
      ]
    },
    {
      "cell_type": "code",
      "source": [
        "a = 6"
      ],
      "metadata": {
        "id": "Z4FnXykvwX6z"
      },
      "execution_count": null,
      "outputs": []
    },
    {
      "cell_type": "code",
      "source": [
        "id(a)"
      ],
      "metadata": {
        "colab": {
          "base_uri": "https://localhost:8080/"
        },
        "id": "x_hiajNzwZrd",
        "outputId": "a1a85650-fc46-44d4-b3c2-ca7eb26985bd"
      },
      "execution_count": null,
      "outputs": [
        {
          "output_type": "execute_result",
          "data": {
            "text/plain": [
              "11256224"
            ]
          },
          "metadata": {},
          "execution_count": 49
        }
      ]
    },
    {
      "cell_type": "code",
      "source": [
        "b = 5"
      ],
      "metadata": {
        "id": "T7CixAp8wae7"
      },
      "execution_count": null,
      "outputs": []
    },
    {
      "cell_type": "code",
      "source": [
        "id(5)"
      ],
      "metadata": {
        "colab": {
          "base_uri": "https://localhost:8080/"
        },
        "id": "kXyn8e6Rwnmv",
        "outputId": "b97bab41-c095-45d8-94c9-448b165dfe4e"
      },
      "execution_count": null,
      "outputs": [
        {
          "output_type": "execute_result",
          "data": {
            "text/plain": [
              "11256192"
            ]
          },
          "metadata": {},
          "execution_count": 51
        }
      ]
    },
    {
      "cell_type": "code",
      "source": [
        ""
      ],
      "metadata": {
        "id": "HjyO4iiLw6EE"
      },
      "execution_count": null,
      "outputs": []
    },
    {
      "cell_type": "markdown",
      "source": [
        "Range is -5 -> 256"
      ],
      "metadata": {
        "id": "4af9MR-6w6e6"
      }
    },
    {
      "cell_type": "code",
      "source": [
        "a = 257\n",
        "b = 257\n",
        "print(id(a))\n",
        "print(id(b))"
      ],
      "metadata": {
        "colab": {
          "base_uri": "https://localhost:8080/"
        },
        "id": "KpwYkajzwohG",
        "outputId": "91e3c600-95d9-4fae-8294-c538f2e4565a"
      },
      "execution_count": null,
      "outputs": [
        {
          "output_type": "stream",
          "name": "stdout",
          "text": [
            "140567537690640\n",
            "140567537690800\n"
          ]
        }
      ]
    },
    {
      "cell_type": "code",
      "source": [
        "a = 2147483648\n",
        "b = 2147483648\n",
        "print(id(a),id(b))"
      ],
      "metadata": {
        "colab": {
          "base_uri": "https://localhost:8080/"
        },
        "id": "98-id4xOwxib",
        "outputId": "bcd4baac-7e6a-4af1-9166-38ca478943c5"
      },
      "execution_count": null,
      "outputs": [
        {
          "output_type": "stream",
          "name": "stdout",
          "text": [
            "140567538179920 140567538178288\n"
          ]
        }
      ]
    },
    {
      "cell_type": "code",
      "source": [
        ""
      ],
      "metadata": {
        "id": "alGoblEdxcSz"
      },
      "execution_count": null,
      "outputs": []
    },
    {
      "cell_type": "markdown",
      "source": [
        "# Control Flow Statements"
      ],
      "metadata": {
        "id": "y_RTbYu5xotw"
      }
    },
    {
      "cell_type": "code",
      "source": [
        "a = True\n",
        "if a:\n",
        "  print(\"A is true\")\n",
        "else:\n",
        "  print(\"A is not true\")"
      ],
      "metadata": {
        "colab": {
          "base_uri": "https://localhost:8080/"
        },
        "id": "UyoVeDSHxqEG",
        "outputId": "2f590081-9760-4564-eebd-3b439e82763e"
      },
      "execution_count": null,
      "outputs": [
        {
          "output_type": "stream",
          "name": "stdout",
          "text": [
            "A is true\n"
          ]
        }
      ]
    },
    {
      "cell_type": "code",
      "source": [
        "a = 60\n",
        "if a > 50:\n",
        "  print(\"wow\")\n",
        "elif a > 20:\n",
        "  print(\"ok ok\")"
      ],
      "metadata": {
        "colab": {
          "base_uri": "https://localhost:8080/"
        },
        "id": "q9RVRPUjysDc",
        "outputId": "b83554d4-1dcb-476f-c76b-6b7eedc153e7"
      },
      "execution_count": null,
      "outputs": [
        {
          "output_type": "stream",
          "name": "stdout",
          "text": [
            "wow\n",
            "ok ok\n"
          ]
        }
      ]
    },
    {
      "cell_type": "code",
      "source": [
        ""
      ],
      "metadata": {
        "id": "Rs36W0eXzF_i"
      },
      "execution_count": null,
      "outputs": []
    },
    {
      "cell_type": "markdown",
      "source": [
        "## Iteration"
      ],
      "metadata": {
        "id": "64LwjBj70Hb-"
      }
    },
    {
      "cell_type": "code",
      "source": [
        "a = 'jatin'\n",
        "\n",
        "for x in a:\n",
        "  print(x)"
      ],
      "metadata": {
        "colab": {
          "base_uri": "https://localhost:8080/"
        },
        "id": "ErPUvtX00IdS",
        "outputId": "3a417f61-672b-4459-923b-429945e5e676"
      },
      "execution_count": null,
      "outputs": [
        {
          "output_type": "stream",
          "name": "stdout",
          "text": [
            "j\n",
            "a\n",
            "t\n",
            "i\n",
            "n\n"
          ]
        }
      ]
    },
    {
      "cell_type": "code",
      "source": [
        "a = 10\n",
        "\n",
        "while a > 0:\n",
        "  print(a)\n",
        "  a = a - 1"
      ],
      "metadata": {
        "colab": {
          "base_uri": "https://localhost:8080/"
        },
        "id": "2j6DSGrh03v0",
        "outputId": "c493f8c7-1642-41ea-c1fd-179d1c0e889b"
      },
      "execution_count": null,
      "outputs": [
        {
          "output_type": "stream",
          "name": "stdout",
          "text": [
            "10\n",
            "9\n",
            "8\n",
            "7\n",
            "6\n",
            "5\n",
            "4\n",
            "3\n",
            "2\n",
            "1\n"
          ]
        }
      ]
    },
    {
      "cell_type": "code",
      "source": [
        ""
      ],
      "metadata": {
        "id": "hkScLgGt0-Qw"
      },
      "execution_count": null,
      "outputs": []
    },
    {
      "cell_type": "markdown",
      "source": [
        "### Iteration Protocol"
      ],
      "metadata": {
        "id": "S49UF6hU1YwW"
      }
    },
    {
      "cell_type": "code",
      "source": [
        "a = 'jatin'"
      ],
      "metadata": {
        "id": "UlMOp6uZ1aHT"
      },
      "execution_count": null,
      "outputs": []
    },
    {
      "cell_type": "code",
      "source": [
        "it = iter(a)"
      ],
      "metadata": {
        "id": "tTm6a4rF1gCb"
      },
      "execution_count": null,
      "outputs": []
    },
    {
      "cell_type": "code",
      "source": [
        "it"
      ],
      "metadata": {
        "colab": {
          "base_uri": "https://localhost:8080/"
        },
        "id": "uwqDRzOS1ihj",
        "outputId": "b4e5ec4e-1aee-4ff9-ca75-e2b73f9df22e"
      },
      "execution_count": null,
      "outputs": [
        {
          "output_type": "execute_result",
          "data": {
            "text/plain": [
              "<str_iterator at 0x7fd86e291a50>"
            ]
          },
          "metadata": {},
          "execution_count": 66
        }
      ]
    },
    {
      "cell_type": "code",
      "source": [
        "next(it)"
      ],
      "metadata": {
        "colab": {
          "base_uri": "https://localhost:8080/",
          "height": 35
        },
        "id": "jvu5--ol1jvA",
        "outputId": "a19f55b4-2c9e-44c0-9b49-e0b51fa48bb6"
      },
      "execution_count": null,
      "outputs": [
        {
          "output_type": "execute_result",
          "data": {
            "text/plain": [
              "'j'"
            ],
            "application/vnd.google.colaboratory.intrinsic+json": {
              "type": "string"
            }
          },
          "metadata": {},
          "execution_count": 67
        }
      ]
    },
    {
      "cell_type": "code",
      "source": [
        "next(it)"
      ],
      "metadata": {
        "colab": {
          "base_uri": "https://localhost:8080/",
          "height": 35
        },
        "id": "dbVKNZxx1opQ",
        "outputId": "731a9574-ede9-4f0e-8c02-8a527096c3a0"
      },
      "execution_count": null,
      "outputs": [
        {
          "output_type": "execute_result",
          "data": {
            "text/plain": [
              "'a'"
            ],
            "application/vnd.google.colaboratory.intrinsic+json": {
              "type": "string"
            }
          },
          "metadata": {},
          "execution_count": 68
        }
      ]
    },
    {
      "cell_type": "code",
      "source": [
        "next(it)"
      ],
      "metadata": {
        "colab": {
          "base_uri": "https://localhost:8080/",
          "height": 35
        },
        "id": "kaKHl8ae1p3c",
        "outputId": "58db4a00-3003-4859-cb4d-3e0a158bf354"
      },
      "execution_count": null,
      "outputs": [
        {
          "output_type": "execute_result",
          "data": {
            "text/plain": [
              "'t'"
            ],
            "application/vnd.google.colaboratory.intrinsic+json": {
              "type": "string"
            }
          },
          "metadata": {},
          "execution_count": 69
        }
      ]
    },
    {
      "cell_type": "code",
      "source": [
        "next(it)"
      ],
      "metadata": {
        "colab": {
          "base_uri": "https://localhost:8080/",
          "height": 35
        },
        "id": "nYmyB6hk1rPW",
        "outputId": "9a7ad770-92dc-4f8f-b9d8-e060662d903a"
      },
      "execution_count": null,
      "outputs": [
        {
          "output_type": "execute_result",
          "data": {
            "text/plain": [
              "'i'"
            ],
            "application/vnd.google.colaboratory.intrinsic+json": {
              "type": "string"
            }
          },
          "metadata": {},
          "execution_count": 70
        }
      ]
    },
    {
      "cell_type": "code",
      "source": [
        "next(it)"
      ],
      "metadata": {
        "colab": {
          "base_uri": "https://localhost:8080/",
          "height": 35
        },
        "id": "tDvoBgwt1s2Q",
        "outputId": "f03b4e6a-3e42-448b-8a5a-392276b1470b"
      },
      "execution_count": null,
      "outputs": [
        {
          "output_type": "execute_result",
          "data": {
            "text/plain": [
              "'n'"
            ],
            "application/vnd.google.colaboratory.intrinsic+json": {
              "type": "string"
            }
          },
          "metadata": {},
          "execution_count": 71
        }
      ]
    },
    {
      "cell_type": "code",
      "source": [
        "next(it)"
      ],
      "metadata": {
        "colab": {
          "base_uri": "https://localhost:8080/",
          "height": 166
        },
        "id": "QrHoVFQr1uez",
        "outputId": "e846a8b4-7de5-49c6-a74d-b3284dfcf7fb"
      },
      "execution_count": null,
      "outputs": [
        {
          "output_type": "error",
          "ename": "StopIteration",
          "evalue": "ignored",
          "traceback": [
            "\u001b[0;31m---------------------------------------------------------------------------\u001b[0m",
            "\u001b[0;31mStopIteration\u001b[0m                             Traceback (most recent call last)",
            "\u001b[0;32m<ipython-input-72-bc1ab118995a>\u001b[0m in \u001b[0;36m<module>\u001b[0;34m()\u001b[0m\n\u001b[0;32m----> 1\u001b[0;31m \u001b[0mnext\u001b[0m\u001b[0;34m(\u001b[0m\u001b[0mit\u001b[0m\u001b[0;34m)\u001b[0m\u001b[0;34m\u001b[0m\u001b[0;34m\u001b[0m\u001b[0m\n\u001b[0m",
            "\u001b[0;31mStopIteration\u001b[0m: "
          ]
        }
      ]
    },
    {
      "cell_type": "code",
      "source": [
        "for x in range(10):\n",
        "  print(x)"
      ],
      "metadata": {
        "colab": {
          "base_uri": "https://localhost:8080/"
        },
        "id": "MbFLclhu1vxC",
        "outputId": "9063670f-7cbd-4096-9563-6dcc029b9f0f"
      },
      "execution_count": null,
      "outputs": [
        {
          "output_type": "stream",
          "name": "stdout",
          "text": [
            "0\n",
            "1\n",
            "2\n",
            "3\n",
            "4\n",
            "5\n",
            "6\n",
            "7\n",
            "8\n",
            "9\n"
          ]
        }
      ]
    },
    {
      "cell_type": "code",
      "source": [
        "a = range(10)"
      ],
      "metadata": {
        "id": "b0yWYl3s2O19"
      },
      "execution_count": null,
      "outputs": []
    },
    {
      "cell_type": "code",
      "source": [
        "type(a)"
      ],
      "metadata": {
        "colab": {
          "base_uri": "https://localhost:8080/"
        },
        "id": "VtAhc3FY2Qwh",
        "outputId": "40d440d9-759c-4b21-f4ff-f2134482281e"
      },
      "execution_count": null,
      "outputs": [
        {
          "output_type": "execute_result",
          "data": {
            "text/plain": [
              "range"
            ]
          },
          "metadata": {},
          "execution_count": 75
        }
      ]
    },
    {
      "cell_type": "code",
      "source": [
        "a = 'jatin hates ruby language'"
      ],
      "metadata": {
        "id": "WToaOEac2RoJ"
      },
      "execution_count": null,
      "outputs": []
    },
    {
      "cell_type": "code",
      "source": [
        "for x in a.split(' '):\n",
        "  print(x)"
      ],
      "metadata": {
        "colab": {
          "base_uri": "https://localhost:8080/"
        },
        "id": "JQ3diFOT2m8H",
        "outputId": "b0a34f31-536b-45bd-c827-0d44f17c7b47"
      },
      "execution_count": null,
      "outputs": [
        {
          "output_type": "stream",
          "name": "stdout",
          "text": [
            "jatin\n",
            "hates\n",
            "ruby\n",
            "language\n"
          ]
        }
      ]
    },
    {
      "cell_type": "code",
      "source": [
        "a.split(' ')"
      ],
      "metadata": {
        "colab": {
          "base_uri": "https://localhost:8080/"
        },
        "id": "KjcEgTTc2oKB",
        "outputId": "a0571ea2-1e92-44f7-ad90-be83f2895ff0"
      },
      "execution_count": null,
      "outputs": [
        {
          "output_type": "execute_result",
          "data": {
            "text/plain": [
              "['jatin', 'hates', 'ruby', 'language']"
            ]
          },
          "metadata": {},
          "execution_count": 80
        }
      ]
    },
    {
      "cell_type": "code",
      "source": [
        ""
      ],
      "metadata": {
        "id": "KVx-pt6w2su1"
      },
      "execution_count": null,
      "outputs": []
    },
    {
      "cell_type": "markdown",
      "source": [
        "# Functions"
      ],
      "metadata": {
        "id": "ILvshvfP25Cy"
      }
    },
    {
      "cell_type": "code",
      "source": [
        "def add():\n",
        "  print(1 + 2)"
      ],
      "metadata": {
        "id": "w8KHsrng25zO"
      },
      "execution_count": null,
      "outputs": []
    },
    {
      "cell_type": "code",
      "source": [
        "add()"
      ],
      "metadata": {
        "colab": {
          "base_uri": "https://localhost:8080/"
        },
        "id": "WiotIxCs3ANS",
        "outputId": "350fa249-85b3-4a11-a61e-44bfbf570388"
      },
      "execution_count": null,
      "outputs": [
        {
          "output_type": "stream",
          "name": "stdout",
          "text": [
            "3\n"
          ]
        }
      ]
    },
    {
      "cell_type": "code",
      "source": [
        "def add(a, b = 4):\n",
        "  return a + b"
      ],
      "metadata": {
        "id": "oOGqPZi93Bm5"
      },
      "execution_count": null,
      "outputs": []
    },
    {
      "cell_type": "code",
      "source": [
        "add(1)"
      ],
      "metadata": {
        "colab": {
          "base_uri": "https://localhost:8080/"
        },
        "id": "sfA1Zinm3W2_",
        "outputId": "554e9e59-8a6a-4f24-cc80-9be5cf723bdd"
      },
      "execution_count": null,
      "outputs": [
        {
          "output_type": "execute_result",
          "data": {
            "text/plain": [
              "5"
            ]
          },
          "metadata": {},
          "execution_count": 97
        }
      ]
    },
    {
      "cell_type": "code",
      "source": [
        "add(b = 3, a = 5)"
      ],
      "metadata": {
        "colab": {
          "base_uri": "https://localhost:8080/"
        },
        "id": "pK9h06L93F48",
        "outputId": "bdcef7d1-f86d-4576-cfac-380a97624cab"
      },
      "execution_count": null,
      "outputs": [
        {
          "output_type": "stream",
          "name": "stdout",
          "text": [
            "5\n",
            "3\n",
            "8\n"
          ]
        }
      ]
    },
    {
      "cell_type": "code",
      "source": [
        "def foo():\n",
        "  1+2"
      ],
      "metadata": {
        "id": "lywNzrys4DKh"
      },
      "execution_count": null,
      "outputs": []
    },
    {
      "cell_type": "code",
      "source": [
        "a = foo()"
      ],
      "metadata": {
        "id": "obr-Dym243aR"
      },
      "execution_count": null,
      "outputs": []
    },
    {
      "cell_type": "code",
      "source": [
        "print(a)"
      ],
      "metadata": {
        "colab": {
          "base_uri": "https://localhost:8080/"
        },
        "id": "T7bKw2pi44Kd",
        "outputId": "458f24f4-7601-4fea-d87c-1a90d5bf0eb6"
      },
      "execution_count": null,
      "outputs": [
        {
          "output_type": "stream",
          "name": "stdout",
          "text": [
            "None\n"
          ]
        }
      ]
    },
    {
      "cell_type": "code",
      "source": [
        "a = 3456789\n",
        "b = a\n",
        "print(id(a), id(b))"
      ],
      "metadata": {
        "colab": {
          "base_uri": "https://localhost:8080/"
        },
        "id": "pwjEH_3T44v6",
        "outputId": "61995f7d-76dd-46ff-ec8e-612833176a99"
      },
      "execution_count": null,
      "outputs": [
        {
          "output_type": "stream",
          "name": "stdout",
          "text": [
            "140567537047568 140567537047568\n"
          ]
        }
      ]
    },
    {
      "cell_type": "code",
      "source": [
        "1.2 + 1.4 + 1.6"
      ],
      "metadata": {
        "id": "uir1NDt95ibB"
      },
      "execution_count": null,
      "outputs": []
    }
  ]
}