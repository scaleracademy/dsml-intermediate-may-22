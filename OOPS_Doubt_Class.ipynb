{
  "nbformat": 4,
  "nbformat_minor": 0,
  "metadata": {
    "colab": {
      "name": " OOPS Doubt Class",
      "provenance": [],
      "authorship_tag": "ABX9TyNP+8M2HanrxK8Z7OPssqTD",
      "include_colab_link": true
    },
    "kernelspec": {
      "name": "python3",
      "display_name": "Python 3"
    },
    "language_info": {
      "name": "python"
    }
  },
  "cells": [
    {
      "cell_type": "markdown",
      "metadata": {
        "id": "view-in-github",
        "colab_type": "text"
      },
      "source": [
        "<a href=\"https://colab.research.google.com/github/scaleracademy/dsml-intermediate-may-22/blob/main/OOPS_Doubt_Class.ipynb\" target=\"_parent\"><img src=\"https://colab.research.google.com/assets/colab-badge.svg\" alt=\"Open In Colab\"/></a>"
      ]
    },
    {
      "cell_type": "code",
      "execution_count": 6,
      "metadata": {
        "id": "jIVJekb8f-8a"
      },
      "outputs": [],
      "source": [
        "class ABC:\n",
        "  def __init__(self, x):\n",
        "    self.x = x\n",
        "  \n",
        "  def _something(self):\n",
        "    return self.x"
      ]
    },
    {
      "cell_type": "code",
      "source": [
        "a = ABC(1)\n",
        "a._something()"
      ],
      "metadata": {
        "colab": {
          "base_uri": "https://localhost:8080/"
        },
        "id": "kbeC2Tk_hXAR",
        "outputId": "e1e2501a-db59-44cf-d80d-01c0d33c98cc"
      },
      "execution_count": 7,
      "outputs": [
        {
          "output_type": "execute_result",
          "data": {
            "text/plain": [
              "1"
            ]
          },
          "metadata": {},
          "execution_count": 7
        }
      ]
    },
    {
      "cell_type": "code",
      "source": [
        "class ABC:\n",
        "  def __init__(self, x):\n",
        "    self.x = x\n",
        "    self._x = x ** 2\n",
        "  \n",
        "  def __something(self):\n",
        "    return self.x\n",
        "\n",
        "class XYZ(ABC):\n",
        "  def something_else(self):\n",
        "    return self.__x"
      ],
      "metadata": {
        "id": "RSS-ucE9hfKp"
      },
      "execution_count": 35,
      "outputs": []
    },
    {
      "cell_type": "code",
      "source": [
        "a = XYZ(5)"
      ],
      "metadata": {
        "id": "BiBKBPSah_zv"
      },
      "execution_count": 36,
      "outputs": []
    },
    {
      "cell_type": "code",
      "source": [
        "a.something_else()"
      ],
      "metadata": {
        "colab": {
          "base_uri": "https://localhost:8080/",
          "height": 287
        },
        "id": "iTNSxDeniC1z",
        "outputId": "f95fd3db-2859-44b4-8582-734c68d99d2f"
      },
      "execution_count": 37,
      "outputs": [
        {
          "output_type": "error",
          "ename": "AttributeError",
          "evalue": "ignored",
          "traceback": [
            "\u001b[0;31m---------------------------------------------------------------------------\u001b[0m",
            "\u001b[0;31mAttributeError\u001b[0m                            Traceback (most recent call last)",
            "\u001b[0;32m<ipython-input-37-55305bfa4679>\u001b[0m in \u001b[0;36m<module>\u001b[0;34m()\u001b[0m\n\u001b[0;32m----> 1\u001b[0;31m \u001b[0ma\u001b[0m\u001b[0;34m.\u001b[0m\u001b[0msomething_else\u001b[0m\u001b[0;34m(\u001b[0m\u001b[0;34m)\u001b[0m\u001b[0;34m\u001b[0m\u001b[0;34m\u001b[0m\u001b[0m\n\u001b[0m",
            "\u001b[0;32m<ipython-input-35-61a9f9670fe4>\u001b[0m in \u001b[0;36msomething_else\u001b[0;34m(self)\u001b[0m\n\u001b[1;32m      9\u001b[0m \u001b[0;32mclass\u001b[0m \u001b[0mXYZ\u001b[0m\u001b[0;34m(\u001b[0m\u001b[0mABC\u001b[0m\u001b[0;34m)\u001b[0m\u001b[0;34m:\u001b[0m\u001b[0;34m\u001b[0m\u001b[0;34m\u001b[0m\u001b[0m\n\u001b[1;32m     10\u001b[0m   \u001b[0;32mdef\u001b[0m \u001b[0msomething_else\u001b[0m\u001b[0;34m(\u001b[0m\u001b[0mself\u001b[0m\u001b[0;34m)\u001b[0m\u001b[0;34m:\u001b[0m\u001b[0;34m\u001b[0m\u001b[0;34m\u001b[0m\u001b[0m\n\u001b[0;32m---> 11\u001b[0;31m     \u001b[0;32mreturn\u001b[0m \u001b[0mself\u001b[0m\u001b[0;34m.\u001b[0m\u001b[0m__x\u001b[0m\u001b[0;34m\u001b[0m\u001b[0;34m\u001b[0m\u001b[0m\n\u001b[0m",
            "\u001b[0;31mAttributeError\u001b[0m: 'XYZ' object has no attribute '_XYZ__x'"
          ]
        }
      ]
    },
    {
      "cell_type": "code",
      "source": [
        "# program to illustrate protected access modifier in a class\n",
        " \n",
        "# super class\n",
        "class Student:\n",
        "    \n",
        "     # protected data members\n",
        "     _name = None\n",
        "     _roll = None\n",
        "     _branch = None\n",
        "    \n",
        "     # constructor\n",
        "     def __init__(self, name, roll, branch): \n",
        "          self._name = name\n",
        "          self._roll = roll\n",
        "          self._branch = branch\n",
        "    \n",
        "     # protected member function  \n",
        "     def _displayRollAndBranch(self):\n",
        " \n",
        "          # accessing protected data members\n",
        "          print(\"Roll: \", self._roll)\n",
        "          print(\"Branch: \", self._branch)\n",
        " \n",
        " \n",
        "# derived class\n",
        "class Geek(Student):\n",
        " \n",
        "       # constructor\n",
        "       def __init__(self, name, roll, branch):\n",
        "                Student.__init__(self, name, roll, branch)\n",
        "         \n",
        "       # public member function\n",
        "       def displayDetails(self):\n",
        "                   \n",
        "                 # accessing protected data members of super class\n",
        "                print(\"Name: \", self._name)\n",
        "                   \n",
        "                 # accessing protected member functions of super class\n",
        "                self._displayRollAndBranch()"
      ],
      "metadata": {
        "id": "Xikax69ViDwe"
      },
      "execution_count": 38,
      "outputs": []
    },
    {
      "cell_type": "code",
      "source": [
        "# creating objects of the derived class       \n",
        "obj = Geek(\"R2J\", 1706256, \"Information Technology\")\n",
        " \n",
        "# calling public member functions of the class\n",
        "obj._displayRollAndBranch()"
      ],
      "metadata": {
        "colab": {
          "base_uri": "https://localhost:8080/"
        },
        "id": "ge3Ez0Ozj88a",
        "outputId": "154ab6b3-111f-4623-c629-48b1f82a1621"
      },
      "execution_count": 40,
      "outputs": [
        {
          "output_type": "stream",
          "name": "stdout",
          "text": [
            "Roll:  1706256\n",
            "Branch:  Information Technology\n"
          ]
        }
      ]
    },
    {
      "cell_type": "code",
      "source": [
        "def foo(a, b):\n",
        "  print(a)\n",
        "  print(b)"
      ],
      "metadata": {
        "id": "zieZTEBCj-Gz"
      },
      "execution_count": 41,
      "outputs": []
    },
    {
      "cell_type": "code",
      "source": [
        "foo(1, 2)"
      ],
      "metadata": {
        "colab": {
          "base_uri": "https://localhost:8080/"
        },
        "id": "5Z1-XS59kfCS",
        "outputId": "73b568e6-46b1-4cd9-f728-0df65a766e19"
      },
      "execution_count": 42,
      "outputs": [
        {
          "output_type": "stream",
          "name": "stdout",
          "text": [
            "1\n",
            "2\n"
          ]
        }
      ]
    },
    {
      "cell_type": "code",
      "source": [
        "foo(b = 1, a = 2)"
      ],
      "metadata": {
        "colab": {
          "base_uri": "https://localhost:8080/"
        },
        "id": "WfRGAOqpkl56",
        "outputId": "3d850e71-0881-4cde-c590-4416588081a4"
      },
      "execution_count": 43,
      "outputs": [
        {
          "output_type": "stream",
          "name": "stdout",
          "text": [
            "2\n",
            "1\n"
          ]
        }
      ]
    },
    {
      "cell_type": "code",
      "source": [
        "def foo(a, b, *x):\n",
        "  print(a)\n",
        "  print(b)\n",
        "  print(x)"
      ],
      "metadata": {
        "id": "9Ibb1dlPkpBi"
      },
      "execution_count": 48,
      "outputs": []
    },
    {
      "cell_type": "code",
      "source": [
        "foo(1, 2, 3, 4, 6)"
      ],
      "metadata": {
        "colab": {
          "base_uri": "https://localhost:8080/"
        },
        "id": "s_cICkcQk5qd",
        "outputId": "6b4ec694-dd41-4130-8678-5611dc009384"
      },
      "execution_count": 49,
      "outputs": [
        {
          "output_type": "stream",
          "name": "stdout",
          "text": [
            "1\n",
            "2\n",
            "(3, 4, 6)\n"
          ]
        }
      ]
    },
    {
      "cell_type": "code",
      "source": [
        "print(1, 2, 3, 4, 5, 6, 7)"
      ],
      "metadata": {
        "colab": {
          "base_uri": "https://localhost:8080/"
        },
        "id": "IIGZS3nzlAAi",
        "outputId": "e91ed0d8-1858-4ca4-b266-a4cb62cb7dcc"
      },
      "execution_count": 50,
      "outputs": [
        {
          "output_type": "stream",
          "name": "stdout",
          "text": [
            "1 2 3 4 5 6 7\n"
          ]
        }
      ]
    },
    {
      "cell_type": "code",
      "source": [
        "a = print(\"Jatin\", \"Katyal\")"
      ],
      "metadata": {
        "colab": {
          "base_uri": "https://localhost:8080/"
        },
        "id": "pcFfyLr6lXBb",
        "outputId": "91142845-b5cb-47ad-fd0d-f474119bf3a5"
      },
      "execution_count": 52,
      "outputs": [
        {
          "output_type": "stream",
          "name": "stdout",
          "text": [
            "Jatin Katyal\n"
          ]
        }
      ]
    },
    {
      "cell_type": "code",
      "source": [
        "print(a)"
      ],
      "metadata": {
        "colab": {
          "base_uri": "https://localhost:8080/"
        },
        "id": "_yCeLxlnlbow",
        "outputId": "c3e377f0-a774-474a-c49d-2f37e1e5a0ff"
      },
      "execution_count": 53,
      "outputs": [
        {
          "output_type": "stream",
          "name": "stdout",
          "text": [
            "None\n"
          ]
        }
      ]
    },
    {
      "cell_type": "code",
      "source": [
        "def foo(a, b = 5, *x, d = 7, c, **z):\n",
        "  print(a)\n",
        "  print(b)\n",
        "  print(x)\n",
        "  print(c)\n",
        "  print(d)\n",
        "  print(z)"
      ],
      "metadata": {
        "id": "kYnsW-j6liNJ"
      },
      "execution_count": 84,
      "outputs": []
    },
    {
      "cell_type": "code",
      "source": [
        "foo(1, 2, 3, 4, 5, 6, d = 100, c = 50, name = 'Jatin')"
      ],
      "metadata": {
        "colab": {
          "base_uri": "https://localhost:8080/"
        },
        "id": "mdUllgR_lw8b",
        "outputId": "9dc30b49-5104-4bb2-f4f0-fe1da1d2d3d7"
      },
      "execution_count": 83,
      "outputs": [
        {
          "output_type": "stream",
          "name": "stdout",
          "text": [
            "1\n",
            "2\n",
            "(3, 4, 5, 6)\n",
            "50\n",
            "100\n",
            "{'name': 'Jatin'}\n"
          ]
        }
      ]
    },
    {
      "cell_type": "code",
      "source": [
        "print?"
      ],
      "metadata": {
        "id": "eKYwz-Rel8Yb"
      },
      "execution_count": 65,
      "outputs": []
    },
    {
      "cell_type": "code",
      "source": [
        "print(\"hello\", 1, 2, 3, 4, 5, end = \";\")\n",
        "print(\"world\")"
      ],
      "metadata": {
        "colab": {
          "base_uri": "https://localhost:8080/"
        },
        "id": "PIvpD4mZnSkJ",
        "outputId": "0d98538f-98e3-4baf-de86-b20afe4a08a8"
      },
      "execution_count": 67,
      "outputs": [
        {
          "output_type": "stream",
          "name": "stdout",
          "text": [
            "hello 1 2 3 4 5;world\n"
          ]
        }
      ]
    },
    {
      "cell_type": "code",
      "source": [
        "def where_clause(**params):\n",
        "  a = \"where\"\n",
        "  for key, value in params.items():\n",
        "    a += f\" {key} = {value} and\"\n",
        "  return a"
      ],
      "metadata": {
        "id": "1RrgPh5KnZXx"
      },
      "execution_count": 76,
      "outputs": []
    },
    {
      "cell_type": "code",
      "source": [
        "where_clause(name = 'Jatin')"
      ],
      "metadata": {
        "colab": {
          "base_uri": "https://localhost:8080/",
          "height": 35
        },
        "id": "eDyvOpjvouFr",
        "outputId": "e7c946e3-77fa-4f26-d037-4461e962a2b2"
      },
      "execution_count": 77,
      "outputs": [
        {
          "output_type": "execute_result",
          "data": {
            "text/plain": [
              "'where name = Jatin and'"
            ],
            "application/vnd.google.colaboratory.intrinsic+json": {
              "type": "string"
            }
          },
          "metadata": {},
          "execution_count": 77
        }
      ]
    },
    {
      "cell_type": "code",
      "source": [
        ""
      ],
      "metadata": {
        "id": "z4G_qcD9oyCz"
      },
      "execution_count": null,
      "outputs": []
    },
    {
      "cell_type": "markdown",
      "source": [
        "## Generators"
      ],
      "metadata": {
        "id": "Pwi46KacqnFs"
      }
    },
    {
      "cell_type": "code",
      "source": [
        "def create_squares(x):\n",
        "  a = []\n",
        "  for i in range(1, x+1):\n",
        "    a.append(i ** 2)\n",
        "  return a"
      ],
      "metadata": {
        "id": "6E2-3ay_qmer"
      },
      "execution_count": 86,
      "outputs": []
    },
    {
      "cell_type": "code",
      "source": [
        "for x in create_squares(1000000000000000000000):\n",
        "  print(x)"
      ],
      "metadata": {
        "colab": {
          "base_uri": "https://localhost:8080/",
          "height": 339
        },
        "id": "jS73J9t5qzgG",
        "outputId": "6e286ad8-c843-4f07-f17d-528cbc1b6e11"
      },
      "execution_count": 88,
      "outputs": [
        {
          "output_type": "error",
          "ename": "KeyboardInterrupt",
          "evalue": "ignored",
          "traceback": [
            "\u001b[0;31m---------------------------------------------------------------------------\u001b[0m",
            "\u001b[0;31mKeyboardInterrupt\u001b[0m                         Traceback (most recent call last)",
            "\u001b[0;32m<ipython-input-88-6a12d859f8c2>\u001b[0m in \u001b[0;36m<module>\u001b[0;34m()\u001b[0m\n\u001b[0;32m----> 1\u001b[0;31m \u001b[0;32mfor\u001b[0m \u001b[0mx\u001b[0m \u001b[0;32min\u001b[0m \u001b[0mcreate_squares\u001b[0m\u001b[0;34m(\u001b[0m\u001b[0;36m1000000000000000000000\u001b[0m\u001b[0;34m)\u001b[0m\u001b[0;34m:\u001b[0m\u001b[0;34m\u001b[0m\u001b[0;34m\u001b[0m\u001b[0m\n\u001b[0m\u001b[1;32m      2\u001b[0m   \u001b[0mprint\u001b[0m\u001b[0;34m(\u001b[0m\u001b[0mx\u001b[0m\u001b[0;34m)\u001b[0m\u001b[0;34m\u001b[0m\u001b[0;34m\u001b[0m\u001b[0m\n",
            "\u001b[0;32m<ipython-input-86-2358535f8729>\u001b[0m in \u001b[0;36mcreate_squares\u001b[0;34m(x)\u001b[0m\n\u001b[1;32m      1\u001b[0m \u001b[0;32mdef\u001b[0m \u001b[0mcreate_squares\u001b[0m\u001b[0;34m(\u001b[0m\u001b[0mx\u001b[0m\u001b[0;34m)\u001b[0m\u001b[0;34m:\u001b[0m\u001b[0;34m\u001b[0m\u001b[0;34m\u001b[0m\u001b[0m\n\u001b[1;32m      2\u001b[0m   \u001b[0ma\u001b[0m \u001b[0;34m=\u001b[0m \u001b[0;34m[\u001b[0m\u001b[0;34m]\u001b[0m\u001b[0;34m\u001b[0m\u001b[0;34m\u001b[0m\u001b[0m\n\u001b[0;32m----> 3\u001b[0;31m   \u001b[0;32mfor\u001b[0m \u001b[0mi\u001b[0m \u001b[0;32min\u001b[0m \u001b[0mrange\u001b[0m\u001b[0;34m(\u001b[0m\u001b[0;36m1\u001b[0m\u001b[0;34m,\u001b[0m \u001b[0mx\u001b[0m\u001b[0;34m+\u001b[0m\u001b[0;36m1\u001b[0m\u001b[0;34m)\u001b[0m\u001b[0;34m:\u001b[0m\u001b[0;34m\u001b[0m\u001b[0;34m\u001b[0m\u001b[0m\n\u001b[0m\u001b[1;32m      4\u001b[0m     \u001b[0ma\u001b[0m\u001b[0;34m.\u001b[0m\u001b[0mappend\u001b[0m\u001b[0;34m(\u001b[0m\u001b[0mi\u001b[0m \u001b[0;34m**\u001b[0m \u001b[0;36m2\u001b[0m\u001b[0;34m)\u001b[0m\u001b[0;34m\u001b[0m\u001b[0;34m\u001b[0m\u001b[0m\n\u001b[1;32m      5\u001b[0m   \u001b[0;32mreturn\u001b[0m \u001b[0ma\u001b[0m\u001b[0;34m\u001b[0m\u001b[0;34m\u001b[0m\u001b[0m\n",
            "\u001b[0;31mKeyboardInterrupt\u001b[0m: "
          ]
        }
      ]
    },
    {
      "cell_type": "markdown",
      "source": [
        "- Eager Loading\n",
        "- Lazy Loading"
      ],
      "metadata": {
        "id": "vY_XVKSerTuD"
      }
    },
    {
      "cell_type": "code",
      "source": [
        "def create_squares(x):\n",
        "  for i in range(1, x+1):\n",
        "    yield i ** 2"
      ],
      "metadata": {
        "id": "JgFuV6XcrBcQ"
      },
      "execution_count": 89,
      "outputs": []
    },
    {
      "cell_type": "code",
      "source": [
        "a = create_squares(10)"
      ],
      "metadata": {
        "id": "LZ6IIgDFr0vt"
      },
      "execution_count": 93,
      "outputs": []
    },
    {
      "cell_type": "code",
      "source": [
        "a"
      ],
      "metadata": {
        "colab": {
          "base_uri": "https://localhost:8080/"
        },
        "id": "XDaAcIkWsi3R",
        "outputId": "ab7d0c10-125f-4039-ca2c-d64eed90e154"
      },
      "execution_count": 94,
      "outputs": [
        {
          "output_type": "execute_result",
          "data": {
            "text/plain": [
              "<generator object create_squares at 0x7f7be7e566d0>"
            ]
          },
          "metadata": {},
          "execution_count": 94
        }
      ]
    },
    {
      "cell_type": "code",
      "source": [
        "iter(a)"
      ],
      "metadata": {
        "colab": {
          "base_uri": "https://localhost:8080/"
        },
        "id": "aIGj8cc2sjOI",
        "outputId": "5ce865e9-2ba7-4cd2-a2c3-55df479f70e9"
      },
      "execution_count": 95,
      "outputs": [
        {
          "output_type": "execute_result",
          "data": {
            "text/plain": [
              "<generator object create_squares at 0x7f7be7e566d0>"
            ]
          },
          "metadata": {},
          "execution_count": 95
        }
      ]
    },
    {
      "cell_type": "code",
      "source": [
        "it = iter(create_squares(10))"
      ],
      "metadata": {
        "id": "8xqMI_dZrprZ"
      },
      "execution_count": 90,
      "outputs": []
    },
    {
      "cell_type": "code",
      "source": [
        "it"
      ],
      "metadata": {
        "colab": {
          "base_uri": "https://localhost:8080/"
        },
        "id": "dY7yhDicrv7A",
        "outputId": "4e9c8fff-4bb7-4bda-e4e9-0c9e4115d12e"
      },
      "execution_count": 91,
      "outputs": [
        {
          "output_type": "execute_result",
          "data": {
            "text/plain": [
              "<generator object create_squares at 0x7f7be7e565d0>"
            ]
          },
          "metadata": {},
          "execution_count": 91
        }
      ]
    },
    {
      "cell_type": "code",
      "source": [
        "next(it)"
      ],
      "metadata": {
        "colab": {
          "base_uri": "https://localhost:8080/",
          "height": 200
        },
        "id": "9Qku-jDdrwmO",
        "outputId": "a5d862a4-73bc-4dc5-e524-6c92b9e110b3"
      },
      "execution_count": 106,
      "outputs": [
        {
          "output_type": "error",
          "ename": "StopIteration",
          "evalue": "ignored",
          "traceback": [
            "\u001b[0;31m---------------------------------------------------------------------------\u001b[0m",
            "\u001b[0;31mStopIteration\u001b[0m                             Traceback (most recent call last)",
            "\u001b[0;32m<ipython-input-106-bc1ab118995a>\u001b[0m in \u001b[0;36m<module>\u001b[0;34m()\u001b[0m\n\u001b[0;32m----> 1\u001b[0;31m \u001b[0mnext\u001b[0m\u001b[0;34m(\u001b[0m\u001b[0mit\u001b[0m\u001b[0;34m)\u001b[0m\u001b[0;34m\u001b[0m\u001b[0;34m\u001b[0m\u001b[0m\n\u001b[0m",
            "\u001b[0;31mStopIteration\u001b[0m: "
          ]
        }
      ]
    },
    {
      "cell_type": "code",
      "source": [
        "def gen():\n",
        "  print(\"started\")\n",
        "  yield 1\n",
        "  yield 2\n",
        "  yield 3\n",
        "  print(\"ended\")"
      ],
      "metadata": {
        "id": "AaB9D0l2sqdJ"
      },
      "execution_count": 113,
      "outputs": []
    },
    {
      "cell_type": "code",
      "source": [
        "it = iter(gen())"
      ],
      "metadata": {
        "id": "k_c73M83trAU"
      },
      "execution_count": 108,
      "outputs": []
    },
    {
      "cell_type": "code",
      "source": [
        "next(it)"
      ],
      "metadata": {
        "colab": {
          "base_uri": "https://localhost:8080/"
        },
        "id": "j82_B25Gtsj2",
        "outputId": "15e6ca5a-2934-4022-c4aa-d21516ee3865"
      },
      "execution_count": 109,
      "outputs": [
        {
          "output_type": "stream",
          "name": "stdout",
          "text": [
            "started\n"
          ]
        },
        {
          "output_type": "execute_result",
          "data": {
            "text/plain": [
              "1"
            ]
          },
          "metadata": {},
          "execution_count": 109
        }
      ]
    },
    {
      "cell_type": "code",
      "source": [
        "next(it)"
      ],
      "metadata": {
        "colab": {
          "base_uri": "https://localhost:8080/"
        },
        "id": "Ioc0IlOvttZp",
        "outputId": "b66f879b-7bd0-4018-e29f-551f6d61ba4c"
      },
      "execution_count": 110,
      "outputs": [
        {
          "output_type": "execute_result",
          "data": {
            "text/plain": [
              "2"
            ]
          },
          "metadata": {},
          "execution_count": 110
        }
      ]
    },
    {
      "cell_type": "code",
      "source": [
        "next(it)"
      ],
      "metadata": {
        "colab": {
          "base_uri": "https://localhost:8080/"
        },
        "id": "t7BWWd2euOHA",
        "outputId": "2ecd1d9e-85ee-4160-cd02-cfa422870354"
      },
      "execution_count": 111,
      "outputs": [
        {
          "output_type": "execute_result",
          "data": {
            "text/plain": [
              "3"
            ]
          },
          "metadata": {},
          "execution_count": 111
        }
      ]
    },
    {
      "cell_type": "code",
      "source": [
        "next(it)"
      ],
      "metadata": {
        "colab": {
          "base_uri": "https://localhost:8080/",
          "height": 218
        },
        "id": "woQZAyJHuO7I",
        "outputId": "32ffe643-3fc1-4338-afcd-339894082344"
      },
      "execution_count": 112,
      "outputs": [
        {
          "output_type": "stream",
          "name": "stdout",
          "text": [
            "ended\n"
          ]
        },
        {
          "output_type": "error",
          "ename": "StopIteration",
          "evalue": "ignored",
          "traceback": [
            "\u001b[0;31m---------------------------------------------------------------------------\u001b[0m",
            "\u001b[0;31mStopIteration\u001b[0m                             Traceback (most recent call last)",
            "\u001b[0;32m<ipython-input-112-bc1ab118995a>\u001b[0m in \u001b[0;36m<module>\u001b[0;34m()\u001b[0m\n\u001b[0;32m----> 1\u001b[0;31m \u001b[0mnext\u001b[0m\u001b[0;34m(\u001b[0m\u001b[0mit\u001b[0m\u001b[0;34m)\u001b[0m\u001b[0;34m\u001b[0m\u001b[0;34m\u001b[0m\u001b[0m\n\u001b[0m",
            "\u001b[0;31mStopIteration\u001b[0m: "
          ]
        }
      ]
    },
    {
      "cell_type": "code",
      "source": [
        "def gen():\n",
        "  print(\"started\")\n",
        "  yield 1\n",
        "  yield 2\n",
        "  yield 3\n",
        "  print(\"ended\")\n",
        "def gen1():\n",
        "  print(\"started\")\n",
        "  yield 5\n",
        "  yield 6\n",
        "  yield 7\n",
        "  print(\"ended\")  "
      ],
      "metadata": {
        "id": "kxeWsHzcuP62"
      },
      "execution_count": 114,
      "outputs": []
    },
    {
      "cell_type": "code",
      "source": [
        "it = iter(gen())\n",
        "it1 = iter(gen1())"
      ],
      "metadata": {
        "id": "8RfVK5qKuvfW"
      },
      "execution_count": 115,
      "outputs": []
    },
    {
      "cell_type": "code",
      "source": [
        "next(it)"
      ],
      "metadata": {
        "colab": {
          "base_uri": "https://localhost:8080/"
        },
        "id": "cvhN6t24uxwm",
        "outputId": "39727216-3aec-41c4-89c0-f4301aa857c7"
      },
      "execution_count": 116,
      "outputs": [
        {
          "output_type": "stream",
          "name": "stdout",
          "text": [
            "started\n"
          ]
        },
        {
          "output_type": "execute_result",
          "data": {
            "text/plain": [
              "1"
            ]
          },
          "metadata": {},
          "execution_count": 116
        }
      ]
    },
    {
      "cell_type": "code",
      "source": [
        "next(it)"
      ],
      "metadata": {
        "colab": {
          "base_uri": "https://localhost:8080/"
        },
        "id": "ZmUFO-GVuz3U",
        "outputId": "acf13938-7bdd-4762-838e-8db5544734ef"
      },
      "execution_count": 117,
      "outputs": [
        {
          "output_type": "execute_result",
          "data": {
            "text/plain": [
              "2"
            ]
          },
          "metadata": {},
          "execution_count": 117
        }
      ]
    },
    {
      "cell_type": "code",
      "source": [
        "next(it1)"
      ],
      "metadata": {
        "colab": {
          "base_uri": "https://localhost:8080/"
        },
        "id": "XLfcor7Wu14U",
        "outputId": "8dc2caa7-c774-477b-b479-591e1e4aa074"
      },
      "execution_count": 118,
      "outputs": [
        {
          "output_type": "stream",
          "name": "stdout",
          "text": [
            "started\n"
          ]
        },
        {
          "output_type": "execute_result",
          "data": {
            "text/plain": [
              "5"
            ]
          },
          "metadata": {},
          "execution_count": 118
        }
      ]
    },
    {
      "cell_type": "code",
      "source": [
        "next?"
      ],
      "metadata": {
        "id": "dWFA7eozu21M"
      },
      "execution_count": 119,
      "outputs": []
    },
    {
      "cell_type": "code",
      "source": [
        "def foo():\n",
        "  print(g)"
      ],
      "metadata": {
        "id": "bixmaP3du-jm"
      },
      "execution_count": 122,
      "outputs": []
    },
    {
      "cell_type": "code",
      "source": [
        "foo()"
      ],
      "metadata": {
        "colab": {
          "base_uri": "https://localhost:8080/",
          "height": 270
        },
        "id": "v01X1W6Yv5lh",
        "outputId": "237e2062-c9d1-48ad-bc51-75672f0fc49d"
      },
      "execution_count": 123,
      "outputs": [
        {
          "output_type": "error",
          "ename": "NameError",
          "evalue": "ignored",
          "traceback": [
            "\u001b[0;31m---------------------------------------------------------------------------\u001b[0m",
            "\u001b[0;31mNameError\u001b[0m                                 Traceback (most recent call last)",
            "\u001b[0;32m<ipython-input-123-c19b6d9633cf>\u001b[0m in \u001b[0;36m<module>\u001b[0;34m()\u001b[0m\n\u001b[0;32m----> 1\u001b[0;31m \u001b[0mfoo\u001b[0m\u001b[0;34m(\u001b[0m\u001b[0;34m)\u001b[0m\u001b[0;34m\u001b[0m\u001b[0;34m\u001b[0m\u001b[0m\n\u001b[0m",
            "\u001b[0;32m<ipython-input-122-c6a1633d3dc4>\u001b[0m in \u001b[0;36mfoo\u001b[0;34m()\u001b[0m\n\u001b[1;32m      1\u001b[0m \u001b[0;32mdef\u001b[0m \u001b[0mfoo\u001b[0m\u001b[0;34m(\u001b[0m\u001b[0;34m)\u001b[0m\u001b[0;34m:\u001b[0m\u001b[0;34m\u001b[0m\u001b[0;34m\u001b[0m\u001b[0m\n\u001b[0;32m----> 2\u001b[0;31m   \u001b[0mprint\u001b[0m\u001b[0;34m(\u001b[0m\u001b[0mg\u001b[0m\u001b[0;34m)\u001b[0m\u001b[0;34m\u001b[0m\u001b[0;34m\u001b[0m\u001b[0m\n\u001b[0m",
            "\u001b[0;31mNameError\u001b[0m: name 'g' is not defined"
          ]
        }
      ]
    },
    {
      "cell_type": "code",
      "source": [
        "g = 100\n",
        "def foo():\n",
        "  global g\n",
        "  \n",
        "  g = 200\n",
        "  print(g)\n",
        "\n",
        "foo()\n",
        "print(g)"
      ],
      "metadata": {
        "colab": {
          "base_uri": "https://localhost:8080/"
        },
        "id": "XI2FtUdPv65H",
        "outputId": "36fc8b95-17d4-4195-f1db-4c2bb5570c64"
      },
      "execution_count": 133,
      "outputs": [
        {
          "output_type": "stream",
          "name": "stdout",
          "text": [
            "200\n",
            "200\n"
          ]
        }
      ]
    },
    {
      "cell_type": "code",
      "source": [
        "g = 100\n",
        "def foo():\n",
        "  g = 200\n",
        "  def bar():\n",
        "    global g\n",
        "    g = 300\n",
        "    print(g)\n",
        "  bar()\n",
        "  print(g)\n",
        "\n",
        "foo()\n",
        "print(g)"
      ],
      "metadata": {
        "colab": {
          "base_uri": "https://localhost:8080/"
        },
        "id": "KjhMig1_wHbp",
        "outputId": "10230336-be57-4042-ef6e-5fa51e0a8844"
      },
      "execution_count": 140,
      "outputs": [
        {
          "output_type": "stream",
          "name": "stdout",
          "text": [
            "300\n",
            "200\n",
            "300\n"
          ]
        }
      ]
    },
    {
      "cell_type": "code",
      "source": [
        "g = 100\n",
        "def foo():\n",
        "  g = 200\n",
        "  def bar():\n",
        "    def something():\n",
        "      nonlocal g\n",
        "      g = 400\n",
        "      print(g)\n",
        "    something()\n",
        "    print(g)\n",
        "  bar()\n",
        "  print(g)\n",
        "\n",
        "foo()\n",
        "print(g)"
      ],
      "metadata": {
        "colab": {
          "base_uri": "https://localhost:8080/",
          "height": 131
        },
        "id": "M6ReZset0KSU",
        "outputId": "7cf8c79e-65ae-4f88-bc39-32b644f0ebbd"
      },
      "execution_count": 145,
      "outputs": [
        {
          "output_type": "error",
          "ename": "SyntaxError",
          "evalue": "ignored",
          "traceback": [
            "\u001b[0;36m  File \u001b[0;32m\"<ipython-input-145-f0ef834f542f>\"\u001b[0;36m, line \u001b[0;32m5\u001b[0m\n\u001b[0;31m    nonlocal g\u001b[0m\n\u001b[0m    ^\u001b[0m\n\u001b[0;31mSyntaxError\u001b[0m\u001b[0;31m:\u001b[0m no binding for nonlocal 'g' found\n"
          ]
        }
      ]
    },
    {
      "cell_type": "code",
      "source": [
        "x = 100\n",
        "def foo():\n",
        "  x = 200\n",
        "  def bar():\n",
        "    print(x)\n",
        "  return bar"
      ],
      "metadata": {
        "id": "va2_DXpnwIdH"
      },
      "execution_count": 139,
      "outputs": []
    },
    {
      "cell_type": "code",
      "source": [
        "a = foo()"
      ],
      "metadata": {
        "id": "PCFMHE1uxyUU"
      },
      "execution_count": 136,
      "outputs": []
    },
    {
      "cell_type": "code",
      "source": [
        "a()"
      ],
      "metadata": {
        "colab": {
          "base_uri": "https://localhost:8080/"
        },
        "id": "2_l2Hv48x5T4",
        "outputId": "06bc164d-faa7-4e2d-985d-3d2a322bb700"
      },
      "execution_count": 137,
      "outputs": [
        {
          "output_type": "stream",
          "name": "stdout",
          "text": [
            "100\n"
          ]
        }
      ]
    },
    {
      "cell_type": "code",
      "source": [
        "def abc():\n",
        "  x = 10"
      ],
      "metadata": {
        "id": "YjnNufYyx9kQ"
      },
      "execution_count": 138,
      "outputs": []
    },
    {
      "cell_type": "code",
      "source": [
        ""
      ],
      "metadata": {
        "id": "SCqVHQThzYYD"
      },
      "execution_count": null,
      "outputs": []
    }
  ]
}