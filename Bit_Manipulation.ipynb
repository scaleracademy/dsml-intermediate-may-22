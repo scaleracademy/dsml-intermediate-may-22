{
  "nbformat": 4,
  "nbformat_minor": 0,
  "metadata": {
    "colab": {
      "name": "Bit Manipulation",
      "provenance": [],
      "authorship_tag": "ABX9TyMW/CGR7ken0HZwS6/H59+a",
      "include_colab_link": true
    },
    "kernelspec": {
      "name": "python3",
      "display_name": "Python 3"
    },
    "language_info": {
      "name": "python"
    }
  },
  "cells": [
    {
      "cell_type": "markdown",
      "metadata": {
        "id": "view-in-github",
        "colab_type": "text"
      },
      "source": [
        "<a href=\"https://colab.research.google.com/github/scaleracademy/dsml-intermediate-may-22/blob/main/Bit_Manipulation.ipynb\" target=\"_parent\"><img src=\"https://colab.research.google.com/assets/colab-badge.svg\" alt=\"Open In Colab\"/></a>"
      ]
    },
    {
      "cell_type": "code",
      "execution_count": null,
      "metadata": {
        "colab": {
          "base_uri": "https://localhost:8080/"
        },
        "id": "AfGXDDPNrKK4",
        "outputId": "fe3fe2f6-1024-4031-e8a0-b25c828ca11f"
      },
      "outputs": [
        {
          "output_type": "execute_result",
          "data": {
            "text/plain": [
              "[]"
            ]
          },
          "metadata": {},
          "execution_count": 1
        }
      ],
      "source": [
        "L = [1, 2, 3, 4, 5, 6, 7]\n",
        "[i for i in list(range(min(L),max(L)+1)) if i not in L]"
      ]
    },
    {
      "cell_type": "code",
      "source": [
        ""
      ],
      "metadata": {
        "id": "D1ONB-hcsW2Y"
      },
      "execution_count": null,
      "outputs": []
    },
    {
      "cell_type": "markdown",
      "source": [
        "## Bitwise operators"
      ],
      "metadata": {
        "id": "DWxL1sBs3ORk"
      }
    },
    {
      "cell_type": "code",
      "source": [
        "print(5 >> 1)"
      ],
      "metadata": {
        "colab": {
          "base_uri": "https://localhost:8080/"
        },
        "id": "rDAqA63AxmbD",
        "outputId": "0aafd025-6b9a-4dad-be21-7633fe7cd60f"
      },
      "execution_count": null,
      "outputs": [
        {
          "output_type": "stream",
          "name": "stdout",
          "text": [
            "2\n"
          ]
        }
      ]
    },
    {
      "cell_type": "code",
      "source": [
        "print(5 << 1)"
      ],
      "metadata": {
        "colab": {
          "base_uri": "https://localhost:8080/"
        },
        "id": "yT2_4PPn4RzR",
        "outputId": "0f274e57-b9da-471c-84d0-ccac8148e885"
      },
      "execution_count": null,
      "outputs": [
        {
          "output_type": "stream",
          "name": "stdout",
          "text": [
            "10\n"
          ]
        }
      ]
    },
    {
      "cell_type": "code",
      "source": [
        "print(5 >> 100000)"
      ],
      "metadata": {
        "colab": {
          "base_uri": "https://localhost:8080/"
        },
        "id": "duAQTM6541Jo",
        "outputId": "edb52548-03d9-49e3-a4b2-dce54be5e1a6"
      },
      "execution_count": null,
      "outputs": [
        {
          "output_type": "stream",
          "name": "stdout",
          "text": [
            "0\n"
          ]
        }
      ]
    },
    {
      "cell_type": "code",
      "source": [
        "8 & 5"
      ],
      "metadata": {
        "colab": {
          "base_uri": "https://localhost:8080/"
        },
        "id": "O_4Sl7905EjO",
        "outputId": "25c75f24-f4b0-4853-8aaa-c3df3c5064a6"
      },
      "execution_count": null,
      "outputs": [
        {
          "output_type": "execute_result",
          "data": {
            "text/plain": [
              "0"
            ]
          },
          "metadata": {},
          "execution_count": 6
        }
      ]
    },
    {
      "cell_type": "code",
      "source": [
        "8 | 5"
      ],
      "metadata": {
        "colab": {
          "base_uri": "https://localhost:8080/"
        },
        "id": "KnvgVqSO5dq6",
        "outputId": "830fa64a-e8e0-4596-980a-06f6e71021d0"
      },
      "execution_count": null,
      "outputs": [
        {
          "output_type": "execute_result",
          "data": {
            "text/plain": [
              "13"
            ]
          },
          "metadata": {},
          "execution_count": 7
        }
      ]
    },
    {
      "cell_type": "code",
      "source": [
        "8 ^ 5"
      ],
      "metadata": {
        "colab": {
          "base_uri": "https://localhost:8080/"
        },
        "id": "vjbmrIGG5xzo",
        "outputId": "11a2e7d1-e030-4989-f251-051e173adf2b"
      },
      "execution_count": null,
      "outputs": [
        {
          "output_type": "execute_result",
          "data": {
            "text/plain": [
              "13"
            ]
          },
          "metadata": {},
          "execution_count": 8
        }
      ]
    },
    {
      "cell_type": "code",
      "source": [
        "~5"
      ],
      "metadata": {
        "colab": {
          "base_uri": "https://localhost:8080/"
        },
        "id": "IjzsSFlJ6KNs",
        "outputId": "bc43c3c8-d336-43f3-f3f9-602f624794ca"
      },
      "execution_count": null,
      "outputs": [
        {
          "output_type": "execute_result",
          "data": {
            "text/plain": [
              "-6"
            ]
          },
          "metadata": {},
          "execution_count": 9
        }
      ]
    },
    {
      "cell_type": "code",
      "source": [
        "cout << \"Hello World\""
      ],
      "metadata": {
        "id": "gLS7bBW26QOn"
      },
      "execution_count": null,
      "outputs": []
    },
    {
      "cell_type": "code",
      "source": [
        "class OutputStream:\n",
        "  def __lshift__(self, obj):\n",
        "    print(obj)\n",
        "    return self\n",
        "\n",
        "cout = OutputStream()"
      ],
      "metadata": {
        "id": "lxmnoUxhDU1R"
      },
      "execution_count": 3,
      "outputs": []
    },
    {
      "cell_type": "code",
      "source": [
        "cout.__lshift__(\"Hello\").__lshift__(\"World\")\n",
        "\n",
        "cout << \"World\""
      ],
      "metadata": {
        "colab": {
          "base_uri": "https://localhost:8080/"
        },
        "id": "edLsBAAXSou_",
        "outputId": "3a660dcc-ec99-4e63-fdcb-ac7faeeff26f"
      },
      "execution_count": 4,
      "outputs": [
        {
          "output_type": "stream",
          "name": "stdout",
          "text": [
            "Hello\n",
            "World\n"
          ]
        },
        {
          "output_type": "execute_result",
          "data": {
            "text/plain": [
              "<__main__.OutputStream at 0x7f8c4b63f290>"
            ]
          },
          "metadata": {},
          "execution_count": 4
        }
      ]
    },
    {
      "cell_type": "code",
      "source": [
        "None << \"World\""
      ],
      "metadata": {
        "id": "SlcblfuPUMuK"
      },
      "execution_count": null,
      "outputs": []
    },
    {
      "cell_type": "code",
      "source": [
        ""
      ],
      "metadata": {
        "colab": {
          "base_uri": "https://localhost:8080/",
          "height": 132
        },
        "id": "ZiTApJefTE1T",
        "outputId": "f4740dfc-51a0-44e8-d4fb-25223d5a2542"
      },
      "execution_count": 7,
      "outputs": [
        {
          "output_type": "error",
          "ename": "SyntaxError",
          "evalue": "ignored",
          "traceback": [
            "\u001b[0;36m  File \u001b[0;32m\"<ipython-input-7-cfdb89ed207a>\"\u001b[0;36m, line \u001b[0;32m1\u001b[0m\n\u001b[0;31m    20 25 15\u001b[0m\n\u001b[0m        ^\u001b[0m\n\u001b[0;31mSyntaxError\u001b[0m\u001b[0;31m:\u001b[0m invalid syntax\n"
          ]
        }
      ]
    },
    {
      "cell_type": "markdown",
      "source": [
        "## Bit Masking"
      ],
      "metadata": {
        "id": "vRCHU3yIDVPS"
      }
    },
    {
      "cell_type": "code",
      "source": [
        "0xa5e"
      ],
      "metadata": {
        "id": "RShALB-mD9Uw",
        "outputId": "9985987b-756a-4eb1-e9c9-33b3eb339619",
        "colab": {
          "base_uri": "https://localhost:8080/"
        }
      },
      "execution_count": null,
      "outputs": [
        {
          "output_type": "execute_result",
          "data": {
            "text/plain": [
              "2654"
            ]
          },
          "metadata": {},
          "execution_count": 13
        }
      ]
    },
    {
      "cell_type": "code",
      "source": [
        "0o75"
      ],
      "metadata": {
        "id": "HIXzj734D7C0",
        "outputId": "0fe6d2d4-71cd-47af-e469-fd1cb484162d",
        "colab": {
          "base_uri": "https://localhost:8080/"
        }
      },
      "execution_count": null,
      "outputs": [
        {
          "output_type": "execute_result",
          "data": {
            "text/plain": [
              "61"
            ]
          },
          "metadata": {},
          "execution_count": 12
        }
      ]
    },
    {
      "cell_type": "code",
      "source": [
        "0b100"
      ],
      "metadata": {
        "colab": {
          "base_uri": "https://localhost:8080/"
        },
        "id": "e0r6OQi1DzIo",
        "outputId": "6417ca76-9c3c-4273-ad6c-270f04fb1644"
      },
      "execution_count": null,
      "outputs": [
        {
          "output_type": "execute_result",
          "data": {
            "text/plain": [
              "4"
            ]
          },
          "metadata": {},
          "execution_count": 11
        }
      ]
    },
    {
      "cell_type": "code",
      "source": [
        "flag = 7"
      ],
      "metadata": {
        "id": "JWpxBgI9DWGP"
      },
      "execution_count": null,
      "outputs": []
    },
    {
      "cell_type": "code",
      "source": [
        "type(0o000)"
      ],
      "metadata": {
        "colab": {
          "base_uri": "https://localhost:8080/"
        },
        "id": "8SMNBWyCZkwU",
        "outputId": "5f10a94f-96e9-415a-afcb-038a22cc298e"
      },
      "execution_count": 10,
      "outputs": [
        {
          "output_type": "execute_result",
          "data": {
            "text/plain": [
              "int"
            ]
          },
          "metadata": {},
          "execution_count": 10
        }
      ]
    },
    {
      "cell_type": "code",
      "source": [
        "class File:\n",
        "  READ_MASK = 0b100\n",
        "  WRITE_MASK = 0b010\n",
        "  EXECUTE_MASK = 0b001\n",
        "\n",
        "  def __init__(self, name, permissions = 0b000):\n",
        "    self.name = name\n",
        "    self.permissions = permissions\n",
        "\n",
        "  def is_readable(self):\n",
        "    return bool(self.permissions & self.READ_MASK)\n",
        "\n",
        "  def is_writable(self):\n",
        "    return bool(self.permissions & self.WRITE_MASK)\n",
        "\n",
        "  def is_executable(self):\n",
        "    return bool(self.permissions & self.EXECUTE_MASK)"
      ],
      "metadata": {
        "id": "Y6K6vtsEDdZB"
      },
      "execution_count": 14,
      "outputs": []
    },
    {
      "cell_type": "code",
      "source": [
        "file = File(\"sample\", 0b111)"
      ],
      "metadata": {
        "id": "Yg7VAeySaxG-"
      },
      "execution_count": 19,
      "outputs": []
    },
    {
      "cell_type": "code",
      "source": [
        "file.is_readable()"
      ],
      "metadata": {
        "colab": {
          "base_uri": "https://localhost:8080/"
        },
        "id": "dUtxIzSFehGq",
        "outputId": "0f86caa7-cd82-48d5-cb67-b6fb145f77fb"
      },
      "execution_count": 20,
      "outputs": [
        {
          "output_type": "execute_result",
          "data": {
            "text/plain": [
              "True"
            ]
          },
          "metadata": {},
          "execution_count": 20
        }
      ]
    },
    {
      "cell_type": "markdown",
      "source": [
        "## Set Bit"
      ],
      "metadata": {
        "id": "qKX2rKngergw"
      }
    },
    {
      "cell_type": "code",
      "source": [
        "class File:\n",
        "  READ_MASK = 0b100\n",
        "  WRITE_MASK = 0b010\n",
        "  EXECUTE_MASK = 0b001\n",
        "\n",
        "  def __init__(self, name):\n",
        "    self.name = name\n",
        "    self.permissions = 0\n",
        "\n",
        "  def make_readable(self):\n",
        "    self.permissions |= self.READ_MASK\n",
        "\n",
        "  def make_writable(self):\n",
        "    self.permissions |= self.WRITE_MASK\n",
        "\n",
        "  def make_executable(self):\n",
        "    self.permissions |= self.EXECUTE_MASK\n",
        "\n",
        "  def is_readable(self):\n",
        "    return bool(self.permissions & self.READ_MASK)\n",
        "\n",
        "  def is_writable(self):\n",
        "    return bool(self.permissions & self.WRITE_MASK)\n",
        "\n",
        "  def is_executable(self):\n",
        "    return bool(self.permissions & self.EXECUTE_MASK)"
      ],
      "metadata": {
        "id": "IJRY5Gnteii6"
      },
      "execution_count": 22,
      "outputs": []
    },
    {
      "cell_type": "code",
      "source": [
        "file = File(\"random.txt\")"
      ],
      "metadata": {
        "id": "GkjQMjoUfQM6"
      },
      "execution_count": 23,
      "outputs": []
    },
    {
      "cell_type": "code",
      "source": [
        "file.make_readable()"
      ],
      "metadata": {
        "id": "sfdVwOJvfVEw"
      },
      "execution_count": 24,
      "outputs": []
    },
    {
      "cell_type": "code",
      "source": [
        "file.is_readable()"
      ],
      "metadata": {
        "colab": {
          "base_uri": "https://localhost:8080/"
        },
        "id": "kPkwS_iEfWO5",
        "outputId": "d1167676-4f8c-4e0a-93b9-d565f11dc371"
      },
      "execution_count": 25,
      "outputs": [
        {
          "output_type": "execute_result",
          "data": {
            "text/plain": [
              "True"
            ]
          },
          "metadata": {},
          "execution_count": 25
        }
      ]
    },
    {
      "cell_type": "code",
      "source": [
        "file.is_writable()"
      ],
      "metadata": {
        "colab": {
          "base_uri": "https://localhost:8080/"
        },
        "id": "qWRsTEnDfXbn",
        "outputId": "fe105cb1-1bc2-4938-e74c-ac8f4c542df8"
      },
      "execution_count": 26,
      "outputs": [
        {
          "output_type": "execute_result",
          "data": {
            "text/plain": [
              "False"
            ]
          },
          "metadata": {},
          "execution_count": 26
        }
      ]
    },
    {
      "cell_type": "code",
      "source": [
        "file.make_writable()"
      ],
      "metadata": {
        "id": "Lbj24ek_fZXi"
      },
      "execution_count": 27,
      "outputs": []
    },
    {
      "cell_type": "code",
      "source": [
        "file.is_writable()"
      ],
      "metadata": {
        "colab": {
          "base_uri": "https://localhost:8080/"
        },
        "id": "55oR7WKwfaw2",
        "outputId": "dfb90117-56da-4c70-e6d0-3768761069ae"
      },
      "execution_count": 28,
      "outputs": [
        {
          "output_type": "execute_result",
          "data": {
            "text/plain": [
              "True"
            ]
          },
          "metadata": {},
          "execution_count": 28
        }
      ]
    },
    {
      "cell_type": "code",
      "source": [
        "file.permissions\n"
      ],
      "metadata": {
        "colab": {
          "base_uri": "https://localhost:8080/"
        },
        "id": "mF5HjBCrfb8L",
        "outputId": "1e7bef1d-ea31-408e-8788-900ec3108dfc"
      },
      "execution_count": 30,
      "outputs": [
        {
          "output_type": "execute_result",
          "data": {
            "text/plain": [
              "6"
            ]
          },
          "metadata": {},
          "execution_count": 30
        }
      ]
    },
    {
      "cell_type": "code",
      "source": [
        "def toggle_bit(number, i):\n",
        "  mask = 1 << i\n",
        "  return number ^ mask"
      ],
      "metadata": {
        "id": "pQ1zICE1fcx1"
      },
      "execution_count": 32,
      "outputs": []
    },
    {
      "cell_type": "code",
      "source": [
        "bin(toggle_bit(0b1110011, 1))"
      ],
      "metadata": {
        "colab": {
          "base_uri": "https://localhost:8080/",
          "height": 35
        },
        "id": "vnUHs8g5hJ7W",
        "outputId": "29de679c-5e66-46f1-ebc5-318bbf6841af"
      },
      "execution_count": 35,
      "outputs": [
        {
          "output_type": "execute_result",
          "data": {
            "text/plain": [
              "'0b1110001'"
            ],
            "application/vnd.google.colaboratory.intrinsic+json": {
              "type": "string"
            }
          },
          "metadata": {},
          "execution_count": 35
        }
      ]
    },
    {
      "cell_type": "code",
      "source": [
        "def clear_bit(number, i):\n",
        "  mask = ~(1 << i)\n",
        "  return number & mask"
      ],
      "metadata": {
        "id": "RBGUh2TZhohB"
      },
      "execution_count": 36,
      "outputs": []
    },
    {
      "cell_type": "code",
      "source": [
        "bin(clear_bit(0b001111001011, 3))"
      ],
      "metadata": {
        "colab": {
          "base_uri": "https://localhost:8080/",
          "height": 35
        },
        "id": "HmUo-ERxjHaA",
        "outputId": "e503b0be-87da-4a94-a070-a2074818c748"
      },
      "execution_count": 38,
      "outputs": [
        {
          "output_type": "execute_result",
          "data": {
            "text/plain": [
              "'0b1111000011'"
            ],
            "application/vnd.google.colaboratory.intrinsic+json": {
              "type": "string"
            }
          },
          "metadata": {},
          "execution_count": 38
        }
      ]
    },
    {
      "cell_type": "code",
      "source": [
        ""
      ],
      "metadata": {
        "id": "HBVPmOVbjKdW"
      },
      "execution_count": null,
      "outputs": []
    }
  ]
}