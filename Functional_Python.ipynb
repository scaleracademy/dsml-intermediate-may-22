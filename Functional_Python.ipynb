{
  "cells": [
    {
      "cell_type": "markdown",
      "metadata": {
        "id": "view-in-github",
        "colab_type": "text"
      },
      "source": [
        "<a href=\"https://colab.research.google.com/github/scaleracademy/dsml-intermediate-may-22/blob/main/Functional_Python.ipynb\" target=\"_parent\"><img src=\"https://colab.research.google.com/assets/colab-badge.svg\" alt=\"Open In Colab\"/></a>"
      ]
    },
    {
      "cell_type": "code",
      "execution_count": null,
      "metadata": {
        "colab": {
          "base_uri": "https://localhost:8080/"
        },
        "id": "eUaHWuLUEOSe",
        "outputId": "c367cc60-2979-425d-b150-c83ca3da5d4e"
      },
      "outputs": [
        {
          "output_type": "stream",
          "name": "stdout",
          "text": [
            "5 5 5 5 5 \n",
            "5 4 4 4 5 \n",
            "5 4 3 4 5 \n",
            "5 4 4 4 5 \n",
            "5 5 5 5 5 \n"
          ]
        }
      ],
      "source": [
        "n = 5\n",
        "\n",
        "for i in range(n):\n",
        "  for j in range(n):\n",
        "    print(max(i+1, j+1, n-i, n-j), end = \" \")\n",
        "  print()"
      ]
    },
    {
      "cell_type": "code",
      "execution_count": null,
      "metadata": {
        "id": "qhZp81DXHEup",
        "colab": {
          "base_uri": "https://localhost:8080/"
        },
        "outputId": "0dab01fb-13f8-4b92-878f-457cefb24b62"
      },
      "outputs": [
        {
          "output_type": "execute_result",
          "data": {
            "text/plain": [
              "builtin_function_or_method"
            ]
          },
          "metadata": {},
          "execution_count": 8
        }
      ],
      "source": [
        "type(print)"
      ]
    },
    {
      "cell_type": "code",
      "source": [
        "def foo():\n",
        "  print(\"Hello Students !\")"
      ],
      "metadata": {
        "id": "nNbU2DUUoGBy"
      },
      "execution_count": null,
      "outputs": []
    },
    {
      "cell_type": "code",
      "source": [
        "foo()"
      ],
      "metadata": {
        "colab": {
          "base_uri": "https://localhost:8080/"
        },
        "id": "jicUWPHKoMWD",
        "outputId": "d2571bc4-b846-4ea9-e1e9-977e7cf763c3"
      },
      "execution_count": null,
      "outputs": [
        {
          "output_type": "stream",
          "name": "stdout",
          "text": [
            "Hello Students !\n"
          ]
        }
      ]
    },
    {
      "cell_type": "code",
      "source": [
        "type(foo)"
      ],
      "metadata": {
        "colab": {
          "base_uri": "https://localhost:8080/"
        },
        "id": "lq5ZMgO5oNZF",
        "outputId": "3b7cbecc-af1c-4f9f-c2b3-dfaf78d8206c"
      },
      "execution_count": null,
      "outputs": [
        {
          "output_type": "execute_result",
          "data": {
            "text/plain": [
              "function"
            ]
          },
          "metadata": {},
          "execution_count": 11
        }
      ]
    },
    {
      "cell_type": "code",
      "source": [
        "foo = 'wat?'"
      ],
      "metadata": {
        "id": "UDf7u_cfoOmo"
      },
      "execution_count": null,
      "outputs": []
    },
    {
      "cell_type": "code",
      "source": [
        "print(foo)"
      ],
      "metadata": {
        "colab": {
          "base_uri": "https://localhost:8080/"
        },
        "id": "KjwkIywnoaLp",
        "outputId": "ec6bdf0c-e03a-4442-dac6-ffabb4b0a317"
      },
      "execution_count": null,
      "outputs": [
        {
          "output_type": "stream",
          "name": "stdout",
          "text": [
            "wat?\n"
          ]
        }
      ]
    },
    {
      "cell_type": "code",
      "source": [
        "foo()"
      ],
      "metadata": {
        "colab": {
          "base_uri": "https://localhost:8080/",
          "height": 200
        },
        "id": "Gb1rPwxHodvI",
        "outputId": "a884513f-2919-4f56-8bdc-3b8a0db5a878"
      },
      "execution_count": null,
      "outputs": [
        {
          "output_type": "error",
          "ename": "TypeError",
          "evalue": "ignored",
          "traceback": [
            "\u001b[0;31m---------------------------------------------------------------------------\u001b[0m",
            "\u001b[0;31mTypeError\u001b[0m                                 Traceback (most recent call last)",
            "\u001b[0;32m<ipython-input-14-c19b6d9633cf>\u001b[0m in \u001b[0;36m<module>\u001b[0;34m()\u001b[0m\n\u001b[0;32m----> 1\u001b[0;31m \u001b[0mfoo\u001b[0m\u001b[0;34m(\u001b[0m\u001b[0;34m)\u001b[0m\u001b[0;34m\u001b[0m\u001b[0;34m\u001b[0m\u001b[0m\n\u001b[0m",
            "\u001b[0;31mTypeError\u001b[0m: 'str' object is not callable"
          ]
        }
      ]
    },
    {
      "cell_type": "code",
      "source": [
        "isinstance(print, object)"
      ],
      "metadata": {
        "colab": {
          "base_uri": "https://localhost:8080/"
        },
        "id": "08hvPmLxom-a",
        "outputId": "93db747b-3875-4f9a-9f79-44be32c2305a"
      },
      "execution_count": null,
      "outputs": [
        {
          "output_type": "execute_result",
          "data": {
            "text/plain": [
              "True"
            ]
          },
          "metadata": {},
          "execution_count": 15
        }
      ]
    },
    {
      "cell_type": "code",
      "source": [
        "def foo():\n",
        "  print(\"Hello Everyone !\")"
      ],
      "metadata": {
        "id": "9npv8Tw1oq-a"
      },
      "execution_count": null,
      "outputs": []
    },
    {
      "cell_type": "code",
      "source": [
        "bar = foo"
      ],
      "metadata": {
        "id": "oiXWh459o9Yp"
      },
      "execution_count": null,
      "outputs": []
    },
    {
      "cell_type": "code",
      "source": [
        "bar()"
      ],
      "metadata": {
        "colab": {
          "base_uri": "https://localhost:8080/"
        },
        "id": "yrjGWOfeo_iD",
        "outputId": "4c7b462d-6650-446e-a359-c26e19003ecf"
      },
      "execution_count": null,
      "outputs": [
        {
          "output_type": "stream",
          "name": "stdout",
          "text": [
            "Hello Everyone !\n"
          ]
        }
      ]
    },
    {
      "cell_type": "code",
      "source": [
        "sqr = lambda x: x**2"
      ],
      "metadata": {
        "id": "Zs3FBYChpBp5"
      },
      "execution_count": null,
      "outputs": []
    },
    {
      "cell_type": "code",
      "source": [
        "sqr(5)"
      ],
      "metadata": {
        "colab": {
          "base_uri": "https://localhost:8080/"
        },
        "id": "8WvMw8GKpz2I",
        "outputId": "54498cfc-2021-462d-877e-5e567f850dbf"
      },
      "execution_count": null,
      "outputs": [
        {
          "output_type": "execute_result",
          "data": {
            "text/plain": [
              "25"
            ]
          },
          "metadata": {},
          "execution_count": 20
        }
      ]
    },
    {
      "cell_type": "code",
      "source": [
        "def sqr(x):\n",
        "  return x ** 2"
      ],
      "metadata": {
        "id": "IZi2-OHxp01o"
      },
      "execution_count": null,
      "outputs": []
    },
    {
      "cell_type": "code",
      "source": [
        "(lambda x: x**2)(5)"
      ],
      "metadata": {
        "colab": {
          "base_uri": "https://localhost:8080/"
        },
        "id": "tlca_OLlp-Cw",
        "outputId": "ceb8aa48-6732-4524-9158-628da5f94e97"
      },
      "execution_count": null,
      "outputs": [
        {
          "output_type": "execute_result",
          "data": {
            "text/plain": [
              "25"
            ]
          },
          "metadata": {},
          "execution_count": 23
        }
      ]
    },
    {
      "cell_type": "code",
      "source": [
        "5 if True else 7"
      ],
      "metadata": {
        "colab": {
          "base_uri": "https://localhost:8080/"
        },
        "id": "qgg5_dSQqItA",
        "outputId": "13d2347e-e223-4ba1-f159-a82154a2609c"
      },
      "execution_count": null,
      "outputs": [
        {
          "output_type": "execute_result",
          "data": {
            "text/plain": [
              "5"
            ]
          },
          "metadata": {},
          "execution_count": 24
        }
      ]
    },
    {
      "cell_type": "code",
      "source": [
        "even_sqr = lambda x: x**2 if x%2 == 0 else None"
      ],
      "metadata": {
        "id": "pCdarCGyq3Bt"
      },
      "execution_count": null,
      "outputs": []
    },
    {
      "cell_type": "code",
      "source": [
        "def foo():\n",
        "  pass"
      ],
      "metadata": {
        "id": "xAtH2lRkrZCf"
      },
      "execution_count": null,
      "outputs": []
    },
    {
      "cell_type": "code",
      "source": [
        "a = foo()"
      ],
      "metadata": {
        "id": "c0L5jXL9rf3V"
      },
      "execution_count": null,
      "outputs": []
    },
    {
      "cell_type": "code",
      "source": [
        "print(a)"
      ],
      "metadata": {
        "colab": {
          "base_uri": "https://localhost:8080/"
        },
        "id": "yAo_ikdZrgp-",
        "outputId": "dd564d29-0716-4915-afd6-4cebafa54358"
      },
      "execution_count": null,
      "outputs": [
        {
          "output_type": "stream",
          "name": "stdout",
          "text": [
            "None\n"
          ]
        }
      ]
    },
    {
      "cell_type": "code",
      "source": [
        "sorted?"
      ],
      "metadata": {
        "id": "CMl6XucFrheJ"
      },
      "execution_count": null,
      "outputs": []
    },
    {
      "cell_type": "code",
      "source": [
        "students = [\n",
        "  {\"name\": 'A', \"marks\": 50 },\n",
        "  {\"name\": 'B', \"marks\": 70 },\n",
        "  {\"name\": 'C', \"marks\": 100 },\n",
        "  {\"name\": 'D', \"marks\": 100 },\n",
        "  {\"name\": 'E', \"marks\": 80 }\n",
        "]"
      ],
      "metadata": {
        "id": "7HAqnzCgr4pO"
      },
      "execution_count": null,
      "outputs": []
    },
    {
      "cell_type": "code",
      "source": [
        "list(sorted(students, key = lambda x: (x[\"marks\"], x[\"name\"]), reverse = True))"
      ],
      "metadata": {
        "colab": {
          "base_uri": "https://localhost:8080/"
        },
        "id": "jre64G1zsVYI",
        "outputId": "cc5aa3d1-2d13-4bf1-bd94-5d49d635d16d"
      },
      "execution_count": null,
      "outputs": [
        {
          "output_type": "execute_result",
          "data": {
            "text/plain": [
              "[{'marks': 100, 'name': 'D'},\n",
              " {'marks': 100, 'name': 'C'},\n",
              " {'marks': 80, 'name': 'E'},\n",
              " {'marks': 70, 'name': 'B'},\n",
              " {'marks': 50, 'name': 'A'}]"
            ]
          },
          "metadata": {},
          "execution_count": 39
        }
      ]
    },
    {
      "cell_type": "code",
      "source": [
        "eq = lambda a, b: a==b"
      ],
      "metadata": {
        "id": "q7uyPRuYsY-W"
      },
      "execution_count": null,
      "outputs": []
    },
    {
      "cell_type": "code",
      "source": [
        "(2, 1) > (1, 2)"
      ],
      "metadata": {
        "colab": {
          "base_uri": "https://localhost:8080/"
        },
        "id": "qvigX4RDtsKa",
        "outputId": "71194a2c-5ede-4d27-c645-cccf7b1ffb4a"
      },
      "execution_count": null,
      "outputs": [
        {
          "output_type": "execute_result",
          "data": {
            "text/plain": [
              "True"
            ]
          },
          "metadata": {},
          "execution_count": 37
        }
      ]
    },
    {
      "cell_type": "code",
      "source": [
        "sorted([5, 2, 1, 4, 2], reverse = True)"
      ],
      "metadata": {
        "colab": {
          "base_uri": "https://localhost:8080/"
        },
        "id": "ZBqEKBkRt8ly",
        "outputId": "0f59a0ae-d79b-4e57-f54b-44778009f787"
      },
      "execution_count": null,
      "outputs": [
        {
          "output_type": "execute_result",
          "data": {
            "text/plain": [
              "[5, 4, 2, 2, 1]"
            ]
          },
          "metadata": {},
          "execution_count": 41
        }
      ]
    },
    {
      "cell_type": "code",
      "source": [
        "sorted([5, 2, 1, 4, 2])[::-1]"
      ],
      "metadata": {
        "colab": {
          "base_uri": "https://localhost:8080/"
        },
        "id": "CHHMJjT2uYf8",
        "outputId": "fa5d9bb9-c002-47f8-edf1-8feb6fb2ef6d"
      },
      "execution_count": null,
      "outputs": [
        {
          "output_type": "execute_result",
          "data": {
            "text/plain": [
              "[5, 4, 2, 2, 1]"
            ]
          },
          "metadata": {},
          "execution_count": 42
        }
      ]
    },
    {
      "cell_type": "code",
      "source": [
        "students = [\n",
        "  {\"name\": 'A', \"marks\": 50 },\n",
        "  {\"name\": 'B', \"marks\": 70 },\n",
        "  {\"name\": 'C', \"marks\": 100 },\n",
        "  {\"name\": 'D', \"marks\": 100 },\n",
        "  {\"name\": 'E', \"marks\": 80 }\n",
        "]"
      ],
      "metadata": {
        "id": "VC14Oeznuc-q"
      },
      "execution_count": null,
      "outputs": []
    },
    {
      "cell_type": "markdown",
      "source": [
        "stable sorting"
      ],
      "metadata": {
        "id": "QhNqDEszvVxc"
      }
    },
    {
      "cell_type": "code",
      "source": [
        "sorted(students, key = lambda x: x[\"marks\"], reverse = True)"
      ],
      "metadata": {
        "colab": {
          "base_uri": "https://localhost:8080/"
        },
        "id": "Bxhr_Ss1u8ti",
        "outputId": "b993fc08-67f3-4809-e336-4939234ee9c3"
      },
      "execution_count": null,
      "outputs": [
        {
          "output_type": "execute_result",
          "data": {
            "text/plain": [
              "[{'marks': 100, 'name': 'C'},\n",
              " {'marks': 100, 'name': 'D'},\n",
              " {'marks': 80, 'name': 'E'},\n",
              " {'marks': 70, 'name': 'B'},\n",
              " {'marks': 50, 'name': 'A'}]"
            ]
          },
          "metadata": {},
          "execution_count": 44
        }
      ]
    },
    {
      "cell_type": "markdown",
      "source": [
        "unstable sorting"
      ],
      "metadata": {
        "id": "wx4PHfTOvUGy"
      }
    },
    {
      "cell_type": "code",
      "source": [
        "sorted(students, key = lambda x: x[\"marks\"])"
      ],
      "metadata": {
        "colab": {
          "base_uri": "https://localhost:8080/"
        },
        "id": "OUkXfQSwvCRX",
        "outputId": "38eb858c-6194-4465-8ca0-ff5f5dbf0427"
      },
      "execution_count": null,
      "outputs": [
        {
          "output_type": "execute_result",
          "data": {
            "text/plain": [
              "[{'marks': 50, 'name': 'A'},\n",
              " {'marks': 70, 'name': 'B'},\n",
              " {'marks': 80, 'name': 'E'},\n",
              " {'marks': 100, 'name': 'C'},\n",
              " {'marks': 100, 'name': 'D'}]"
            ]
          },
          "metadata": {},
          "execution_count": 46
        }
      ]
    },
    {
      "cell_type": "code",
      "source": [
        "type(students)"
      ],
      "metadata": {
        "colab": {
          "base_uri": "https://localhost:8080/"
        },
        "id": "GyAHRytIvGGq",
        "outputId": "1f5a6e06-5d15-4906-9184-c032525ecdf1"
      },
      "execution_count": null,
      "outputs": [
        {
          "output_type": "execute_result",
          "data": {
            "text/plain": [
              "list"
            ]
          },
          "metadata": {},
          "execution_count": 47
        }
      ]
    },
    {
      "cell_type": "code",
      "source": [
        "def gen_exp(n):\n",
        "  def exp(x):\n",
        "    return x ** n\n",
        "  \n",
        "  return exp"
      ],
      "metadata": {
        "id": "7mnFk_fWvsUN"
      },
      "execution_count": null,
      "outputs": []
    },
    {
      "cell_type": "code",
      "source": [
        "sqr = gen_exp(2)"
      ],
      "metadata": {
        "id": "vm-Wv3gHwPz7"
      },
      "execution_count": null,
      "outputs": []
    },
    {
      "cell_type": "code",
      "source": [
        "cube = gen_exp(3)"
      ],
      "metadata": {
        "id": "-9KJOaY6wW14"
      },
      "execution_count": null,
      "outputs": []
    },
    {
      "cell_type": "code",
      "source": [
        "sqr(2)"
      ],
      "metadata": {
        "colab": {
          "base_uri": "https://localhost:8080/"
        },
        "id": "_uTIC3GOwcgT",
        "outputId": "8a73dd32-acaa-4eeb-a5a5-1d032ef99563"
      },
      "execution_count": null,
      "outputs": [
        {
          "output_type": "execute_result",
          "data": {
            "text/plain": [
              "4"
            ]
          },
          "metadata": {},
          "execution_count": 51
        }
      ]
    },
    {
      "cell_type": "code",
      "source": [
        "cube(2)"
      ],
      "metadata": {
        "colab": {
          "base_uri": "https://localhost:8080/"
        },
        "id": "YvG-MeJawgly",
        "outputId": "907c47e2-d633-487d-eada-dd53fbdd3113"
      },
      "execution_count": null,
      "outputs": [
        {
          "output_type": "execute_result",
          "data": {
            "text/plain": [
              "8"
            ]
          },
          "metadata": {},
          "execution_count": 52
        }
      ]
    },
    {
      "cell_type": "code",
      "source": [
        "def foo():\n",
        "  print(\"-\" * 10)\n",
        "  print(\"Hello How are you\")\n",
        "  print(\"-\" * 10)"
      ],
      "metadata": {
        "id": "9oHoLvqvwiVm"
      },
      "execution_count": null,
      "outputs": []
    },
    {
      "cell_type": "code",
      "source": [
        "def sum(a, b):\n",
        "  print(\"-\" * 10)\n",
        "  print(a + b)\n",
        "  print(\"-\" * 10)"
      ],
      "metadata": {
        "id": "7J3RqU-awtuX"
      },
      "execution_count": null,
      "outputs": []
    },
    {
      "cell_type": "code",
      "source": [
        "foo()"
      ],
      "metadata": {
        "colab": {
          "base_uri": "https://localhost:8080/"
        },
        "id": "RBaF7YYOxEBO",
        "outputId": "147e7068-6955-4978-e66b-424ef885009b"
      },
      "execution_count": null,
      "outputs": [
        {
          "output_type": "stream",
          "name": "stdout",
          "text": [
            "----------\n",
            "Hello How are you\n",
            "----------\n"
          ]
        }
      ]
    },
    {
      "cell_type": "code",
      "source": [
        "sum(1, 2)"
      ],
      "metadata": {
        "colab": {
          "base_uri": "https://localhost:8080/"
        },
        "id": "p-RPfYlnxE1Z",
        "outputId": "8832163d-3a3d-40d9-c1f2-26ba7ed705c8"
      },
      "execution_count": null,
      "outputs": [
        {
          "output_type": "stream",
          "name": "stdout",
          "text": [
            "----------\n",
            "3\n",
            "----------\n"
          ]
        }
      ]
    },
    {
      "cell_type": "markdown",
      "source": [
        "## Decorators\n",
        "- Functions which take functions as an argument and returns a function"
      ],
      "metadata": {
        "id": "Jb8iwiqzxOEh"
      }
    },
    {
      "cell_type": "code",
      "source": [
        "def sqr(x):\n",
        "  s = x ** 2\n",
        "\n",
        "  return s"
      ],
      "metadata": {
        "id": "QTu4HHQlzA-b"
      },
      "execution_count": null,
      "outputs": []
    },
    {
      "cell_type": "code",
      "source": [
        "def pretty(func):\n",
        "  print(\"executing decorator\")\n",
        "  def wrapper():\n",
        "    print(\"-\" * 10)\n",
        "    func()\n",
        "    print(\"-\" * 10)\n",
        "    \n",
        "  return wrapper"
      ],
      "metadata": {
        "id": "xo1zyzTExIGS"
      },
      "execution_count": null,
      "outputs": []
    },
    {
      "cell_type": "code",
      "source": [
        "\n",
        "def foo():\n",
        "  print(\"Hello World\")"
      ],
      "metadata": {
        "id": "jq-9hogxxvP0"
      },
      "execution_count": null,
      "outputs": []
    },
    {
      "cell_type": "code",
      "source": [
        "foo = pretty(foo)"
      ],
      "metadata": {
        "id": "IMWq1T-Axxo_"
      },
      "execution_count": null,
      "outputs": []
    },
    {
      "cell_type": "code",
      "source": [
        "foo()"
      ],
      "metadata": {
        "colab": {
          "base_uri": "https://localhost:8080/"
        },
        "id": "MTrsrSpqxzVx",
        "outputId": "c13b15e8-fd45-48d1-f702-a71bfdda700c"
      },
      "execution_count": null,
      "outputs": [
        {
          "output_type": "stream",
          "name": "stdout",
          "text": [
            "----------\n",
            "Hello World\n",
            "----------\n"
          ]
        }
      ]
    },
    {
      "cell_type": "code",
      "source": [
        "pretty(foo)()"
      ],
      "metadata": {
        "id": "P6Y2fW6Q0LRb"
      },
      "execution_count": null,
      "outputs": []
    },
    {
      "cell_type": "code",
      "source": [
        "@pretty\n",
        "def foo1():\n",
        "  print(\"wow !\")"
      ],
      "metadata": {
        "colab": {
          "base_uri": "https://localhost:8080/"
        },
        "id": "FRE1Hn7ox0Gw",
        "outputId": "c980b8ee-b125-4336-f3b4-4cebd4baf1d2"
      },
      "execution_count": null,
      "outputs": [
        {
          "output_type": "stream",
          "name": "stdout",
          "text": [
            "executing decorator\n"
          ]
        }
      ]
    },
    {
      "cell_type": "code",
      "source": [
        "foo1()"
      ],
      "metadata": {
        "colab": {
          "base_uri": "https://localhost:8080/"
        },
        "id": "9D82SKiXx7Q2",
        "outputId": "bdbb0048-1c0a-4bfb-911f-a8ea60c699e0"
      },
      "execution_count": null,
      "outputs": [
        {
          "output_type": "stream",
          "name": "stdout",
          "text": [
            "----------\n",
            "wow !\n",
            "----------\n"
          ]
        }
      ]
    },
    {
      "cell_type": "code",
      "source": [
        "a = [1, 2, 3, 4]\n",
        "b = a\n",
        "a[0] = 100"
      ],
      "metadata": {
        "id": "ZI89OJblx7_Z"
      },
      "execution_count": null,
      "outputs": []
    },
    {
      "cell_type": "code",
      "source": [
        "print(b)"
      ],
      "metadata": {
        "colab": {
          "base_uri": "https://localhost:8080/"
        },
        "id": "DBfCvxEa0pFG",
        "outputId": "97ab3325-22e9-42d2-819a-f675d46882c0"
      },
      "execution_count": null,
      "outputs": [
        {
          "output_type": "stream",
          "name": "stdout",
          "text": [
            "[100, 2, 3, 4]\n"
          ]
        }
      ]
    },
    {
      "cell_type": "code",
      "source": [
        "def foo(a):\n",
        "  a[0] = 100\n",
        "  print(a)\n"
      ],
      "metadata": {
        "id": "Rj1RrP6f0vU3"
      },
      "execution_count": null,
      "outputs": []
    },
    {
      "cell_type": "code",
      "source": [
        "arr = [1, 2, 3, 4]"
      ],
      "metadata": {
        "id": "LfdyUuDo0y-Z"
      },
      "execution_count": null,
      "outputs": []
    },
    {
      "cell_type": "code",
      "source": [
        "foo(arr)\n",
        "print(arr)"
      ],
      "metadata": {
        "colab": {
          "base_uri": "https://localhost:8080/"
        },
        "id": "FrXbLCJW01P_",
        "outputId": "5d54727f-4fc3-48d2-88ef-b94a03cbf24a"
      },
      "execution_count": null,
      "outputs": [
        {
          "output_type": "stream",
          "name": "stdout",
          "text": [
            "[100, 2, 3, 4]\n",
            "[100, 2, 3, 4]\n"
          ]
        }
      ]
    },
    {
      "cell_type": "code",
      "source": [
        "globals()['arr']"
      ],
      "metadata": {
        "colab": {
          "base_uri": "https://localhost:8080/"
        },
        "id": "2CsuDzqW1ALv",
        "outputId": "3198a212-739a-4205-aed5-18a8e0538951"
      },
      "execution_count": null,
      "outputs": [
        {
          "output_type": "execute_result",
          "data": {
            "text/plain": [
              "[100, 2, 3, 4]"
            ]
          },
          "metadata": {},
          "execution_count": 77
        }
      ]
    },
    {
      "cell_type": "code",
      "source": [
        "arr = [1, 2, 3, 4, 5]\n",
        "\n",
        "i = 0\n",
        "while i < len(arr):\n",
        "  print(arr[i])\n",
        "  i += 1"
      ],
      "metadata": {
        "id": "FXWjIJS82GYS"
      },
      "execution_count": null,
      "outputs": []
    },
    {
      "cell_type": "code",
      "source": [
        "a = 1\n",
        "def foo():\n",
        "  global a\n",
        "  a = 2\n",
        "  print(a)"
      ],
      "metadata": {
        "id": "SbgNmX4631BQ"
      },
      "execution_count": null,
      "outputs": []
    },
    {
      "cell_type": "code",
      "source": [
        "print(a)"
      ],
      "metadata": {
        "colab": {
          "base_uri": "https://localhost:8080/"
        },
        "id": "ML6mgd-134Jy",
        "outputId": "dad22e28-8709-4ddf-e28f-1bfc1bdba582"
      },
      "execution_count": null,
      "outputs": [
        {
          "output_type": "stream",
          "name": "stdout",
          "text": [
            "1\n"
          ]
        }
      ]
    },
    {
      "cell_type": "code",
      "source": [
        "foo()"
      ],
      "metadata": {
        "colab": {
          "base_uri": "https://localhost:8080/"
        },
        "id": "xoxteKuk35EN",
        "outputId": "753838ed-3df1-400f-d4bd-44e85254b912"
      },
      "execution_count": null,
      "outputs": [
        {
          "output_type": "stream",
          "name": "stdout",
          "text": [
            "2\n"
          ]
        }
      ]
    },
    {
      "cell_type": "code",
      "source": [
        "a"
      ],
      "metadata": {
        "colab": {
          "base_uri": "https://localhost:8080/"
        },
        "id": "g76kN90U36QF",
        "outputId": "df51ba12-7fb8-44fd-f814-32c45e521a99"
      },
      "execution_count": null,
      "outputs": [
        {
          "output_type": "execute_result",
          "data": {
            "text/plain": [
              "2"
            ]
          },
          "metadata": {},
          "execution_count": 84
        }
      ]
    },
    {
      "cell_type": "code",
      "source": [
        "power = 2\n",
        "def exp(x):\n",
        "  return x ** power"
      ],
      "metadata": {
        "id": "T8a-Mzzm3-86"
      },
      "execution_count": null,
      "outputs": []
    },
    {
      "cell_type": "code",
      "source": [
        "exp(2)"
      ],
      "metadata": {
        "colab": {
          "base_uri": "https://localhost:8080/"
        },
        "id": "iyAzLm104PV9",
        "outputId": "70b78578-93ab-4c91-fe19-29946b18d37d"
      },
      "execution_count": null,
      "outputs": [
        {
          "output_type": "execute_result",
          "data": {
            "text/plain": [
              "4"
            ]
          },
          "metadata": {},
          "execution_count": 91
        }
      ]
    },
    {
      "cell_type": "code",
      "source": [
        "power = 3\n",
        "exp(2)"
      ],
      "metadata": {
        "colab": {
          "base_uri": "https://localhost:8080/"
        },
        "id": "FwqsaJq54k8t",
        "outputId": "53e9c153-8abe-4a1d-fde1-d57db8ac7d55"
      },
      "execution_count": null,
      "outputs": [
        {
          "output_type": "execute_result",
          "data": {
            "text/plain": [
              "8"
            ]
          },
          "metadata": {},
          "execution_count": 92
        }
      ]
    },
    {
      "cell_type": "code",
      "source": [
        "a = [1, 2, 3, 4, 5, 6, 7]"
      ],
      "metadata": {
        "id": "n9_jwl5D5v_4"
      },
      "execution_count": null,
      "outputs": []
    },
    {
      "cell_type": "code",
      "source": [
        ""
      ],
      "metadata": {
        "id": "917_95P_8rqu"
      },
      "execution_count": null,
      "outputs": []
    },
    {
      "cell_type": "code",
      "source": [
        "def even_filter(a):\n",
        "  return [x for x in a if x%2 == 0]"
      ],
      "metadata": {
        "id": "6yAQ04AA6ol3"
      },
      "execution_count": null,
      "outputs": []
    },
    {
      "cell_type": "code",
      "source": [
        "even_filter(a)"
      ],
      "metadata": {
        "colab": {
          "base_uri": "https://localhost:8080/"
        },
        "id": "fLhuyUP060FN",
        "outputId": "caaf0518-a549-47e7-bec7-b420ff2ad8d2"
      },
      "execution_count": null,
      "outputs": [
        {
          "output_type": "execute_result",
          "data": {
            "text/plain": [
              "[2, 4, 6]"
            ]
          },
          "metadata": {},
          "execution_count": 95
        }
      ]
    },
    {
      "cell_type": "code",
      "source": [
        "filter(lambda x: x%2 == 0, a)"
      ],
      "metadata": {
        "colab": {
          "base_uri": "https://localhost:8080/"
        },
        "id": "cyE6jIxd61x6",
        "outputId": "da0b2312-d29e-4688-c1fe-71dd87b40b8b"
      },
      "execution_count": null,
      "outputs": [
        {
          "output_type": "execute_result",
          "data": {
            "text/plain": [
              "[2, 4, 6]"
            ]
          },
          "metadata": {},
          "execution_count": 98
        }
      ]
    },
    {
      "cell_type": "code",
      "source": [
        "a"
      ],
      "metadata": {
        "colab": {
          "base_uri": "https://localhost:8080/"
        },
        "id": "oGVyoA9U7CV7",
        "outputId": "3ac8005d-e2a0-4e77-a762-c959788b752d"
      },
      "execution_count": null,
      "outputs": [
        {
          "output_type": "execute_result",
          "data": {
            "text/plain": [
              "[1, 2, 3, 4, 5, 6, 7]"
            ]
          },
          "metadata": {},
          "execution_count": 99
        }
      ]
    },
    {
      "cell_type": "code",
      "source": [
        "for x in range(10):\n",
        "  pass"
      ],
      "metadata": {
        "id": "FIuYufYH8LYx"
      },
      "execution_count": null,
      "outputs": []
    },
    {
      "cell_type": "code",
      "source": [
        "print(x)"
      ],
      "metadata": {
        "colab": {
          "base_uri": "https://localhost:8080/"
        },
        "id": "CRE3PssJ85PO",
        "outputId": "afdb66e8-8d28-4bc3-9c9b-a27721b1e12c"
      },
      "execution_count": null,
      "outputs": [
        {
          "output_type": "stream",
          "name": "stdout",
          "text": [
            "9\n"
          ]
        }
      ]
    },
    {
      "cell_type": "code",
      "source": [
        "a = [1, 2, 3, 4]\n",
        "list(map(lambda x: x**2, a))"
      ],
      "metadata": {
        "colab": {
          "base_uri": "https://localhost:8080/"
        },
        "id": "BH004ii286jx",
        "outputId": "689b8539-af16-4c67-fd17-80059461397f"
      },
      "execution_count": null,
      "outputs": [
        {
          "output_type": "execute_result",
          "data": {
            "text/plain": [
              "[1, 4, 9, 16]"
            ]
          },
          "metadata": {},
          "execution_count": 102
        }
      ]
    },
    {
      "cell_type": "code",
      "source": [
        "reduce"
      ],
      "metadata": {
        "id": "nbEVQPQE9Kkj"
      },
      "execution_count": null,
      "outputs": []
    }
  ],
  "metadata": {
    "colab": {
      "name": "Functional Python",
      "provenance": [],
      "authorship_tag": "ABX9TyOxilW65LjX+8y4G1MGoYX2",
      "include_colab_link": true
    },
    "kernelspec": {
      "display_name": "Python 3",
      "name": "python3"
    },
    "language_info": {
      "name": "python"
    }
  },
  "nbformat": 4,
  "nbformat_minor": 0
}