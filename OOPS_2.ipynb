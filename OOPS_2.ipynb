{
  "nbformat": 4,
  "nbformat_minor": 0,
  "metadata": {
    "colab": {
      "name": "OOPS 2",
      "provenance": [],
      "collapsed_sections": [],
      "authorship_tag": "ABX9TyNAxBUu4eBjt+u1c55lkxuD",
      "include_colab_link": true
    },
    "kernelspec": {
      "name": "python3",
      "display_name": "Python 3"
    },
    "language_info": {
      "name": "python"
    }
  },
  "cells": [
    {
      "cell_type": "markdown",
      "metadata": {
        "id": "view-in-github",
        "colab_type": "text"
      },
      "source": [
        "<a href=\"https://colab.research.google.com/github/scaleracademy/dsml-intermediate-may-22/blob/main/OOPS_2.ipynb\" target=\"_parent\"><img src=\"https://colab.research.google.com/assets/colab-badge.svg\" alt=\"Open In Colab\"/></a>"
      ]
    },
    {
      "cell_type": "code",
      "execution_count": 10,
      "metadata": {
        "id": "A-8PgyeuJW0l"
      },
      "outputs": [],
      "source": [
        "class Student:\n",
        "  subject_name = \"Math for ML\""
      ]
    },
    {
      "cell_type": "code",
      "source": [
        "s1 = Student()\n",
        "s1.name = 'Emma'\n",
        "s1.roll_no = 10"
      ],
      "metadata": {
        "id": "8W_uwlZpKNxH"
      },
      "execution_count": 11,
      "outputs": []
    },
    {
      "cell_type": "code",
      "source": [
        "s1.subject_name"
      ],
      "metadata": {
        "colab": {
          "base_uri": "https://localhost:8080/",
          "height": 35
        },
        "id": "vhD8s8NqKNpv",
        "outputId": "4ef2c45d-5067-44c0-8588-3d4080a424e9"
      },
      "execution_count": 13,
      "outputs": [
        {
          "output_type": "execute_result",
          "data": {
            "text/plain": [
              "'Math for ML'"
            ],
            "application/vnd.google.colaboratory.intrinsic+json": {
              "type": "string"
            }
          },
          "metadata": {},
          "execution_count": 13
        }
      ]
    },
    {
      "cell_type": "code",
      "source": [
        "Student.subject_name = \"ML\""
      ],
      "metadata": {
        "id": "zSr4njPsKNf-"
      },
      "execution_count": 14,
      "outputs": []
    },
    {
      "cell_type": "code",
      "source": [
        "s1.subject_name"
      ],
      "metadata": {
        "colab": {
          "base_uri": "https://localhost:8080/",
          "height": 35
        },
        "id": "jG6H_I7QKUEd",
        "outputId": "3e17f908-f3d6-41de-d92b-1fc2a4b59e62"
      },
      "execution_count": 15,
      "outputs": [
        {
          "output_type": "execute_result",
          "data": {
            "text/plain": [
              "'Math for ML'"
            ],
            "application/vnd.google.colaboratory.intrinsic+json": {
              "type": "string"
            }
          },
          "metadata": {},
          "execution_count": 15
        }
      ]
    },
    {
      "cell_type": "code",
      "source": [
        "s1.name = \"something\""
      ],
      "metadata": {
        "id": "iHJo24P_KT8M"
      },
      "execution_count": 16,
      "outputs": []
    },
    {
      "cell_type": "code",
      "source": [
        "s1.subject_name = \"something\""
      ],
      "metadata": {
        "id": "cqz1eV_iJnR_"
      },
      "execution_count": 2,
      "outputs": []
    },
    {
      "cell_type": "code",
      "source": [
        "Student.subject_name"
      ],
      "metadata": {
        "colab": {
          "base_uri": "https://localhost:8080/",
          "height": 35
        },
        "id": "A7b-kHDeJxBL",
        "outputId": "cbec4130-d2e6-4815-c056-afe18a3efcf6"
      },
      "execution_count": 3,
      "outputs": [
        {
          "output_type": "execute_result",
          "data": {
            "text/plain": [
              "'Machine Learning'"
            ],
            "application/vnd.google.colaboratory.intrinsic+json": {
              "type": "string"
            }
          },
          "metadata": {},
          "execution_count": 3
        }
      ]
    },
    {
      "cell_type": "code",
      "source": [
        "s1.subject_name"
      ],
      "metadata": {
        "colab": {
          "base_uri": "https://localhost:8080/",
          "height": 35
        },
        "id": "wNCy8kHGJy5l",
        "outputId": "d36b898c-f96b-4052-cca9-87309efd4ce8"
      },
      "execution_count": 4,
      "outputs": [
        {
          "output_type": "execute_result",
          "data": {
            "text/plain": [
              "'something'"
            ],
            "application/vnd.google.colaboratory.intrinsic+json": {
              "type": "string"
            }
          },
          "metadata": {},
          "execution_count": 4
        }
      ]
    },
    {
      "cell_type": "code",
      "source": [
        "isinstance(1, object)"
      ],
      "metadata": {
        "id": "cPiVZr_aJ0XH"
      },
      "execution_count": null,
      "outputs": []
    },
    {
      "cell_type": "code",
      "source": [
        ""
      ],
      "metadata": {
        "id": "7Tv0Xj7GQtib"
      },
      "execution_count": null,
      "outputs": []
    },
    {
      "cell_type": "code",
      "source": [
        "class ABC:\n",
        "  def __init__(self, x):\n",
        "    self.x = x\n",
        "\n",
        "class SchoolMember:\n",
        "  def __init__(self, name):\n",
        "    self.name = name\n",
        "\n",
        "class Student(SchoolMember):\n",
        "  pass\n",
        "\n",
        "class Staff(SchoolMember):\n",
        "  def __init__(self, name, salary):\n",
        "    super().__init__(name)\n",
        "    self.salary = salary\n",
        "\n",
        "class Teacher(Staff):\n",
        "  def __init__(self, name, salary, subject):\n",
        "    super().__init__(name, salary)\n",
        "    self.salary = 10000\n",
        "    self.subject = subject"
      ],
      "metadata": {
        "id": "oQsL2TzHQwQH"
      },
      "execution_count": 64,
      "outputs": []
    },
    {
      "cell_type": "code",
      "source": [
        "s1 = Student(\"Jatin\")"
      ],
      "metadata": {
        "id": "v-NqaPJLRUDi"
      },
      "execution_count": 19,
      "outputs": []
    },
    {
      "cell_type": "code",
      "source": [
        "type(s1)"
      ],
      "metadata": {
        "colab": {
          "base_uri": "https://localhost:8080/"
        },
        "id": "u1HkgA-aRVA6",
        "outputId": "0f3d7a0e-4cf3-4324-fbf4-dfb9de49d802"
      },
      "execution_count": 20,
      "outputs": [
        {
          "output_type": "execute_result",
          "data": {
            "text/plain": [
              "__main__.Student"
            ]
          },
          "metadata": {},
          "execution_count": 20
        }
      ]
    },
    {
      "cell_type": "code",
      "source": [
        "isinstance(s1, SchoolMember)"
      ],
      "metadata": {
        "colab": {
          "base_uri": "https://localhost:8080/"
        },
        "id": "3Ak7lgSHRehs",
        "outputId": "2bc5d119-386c-4d81-a320-fd99ec93ef08"
      },
      "execution_count": 23,
      "outputs": [
        {
          "output_type": "execute_result",
          "data": {
            "text/plain": [
              "True"
            ]
          },
          "metadata": {},
          "execution_count": 23
        }
      ]
    },
    {
      "cell_type": "code",
      "source": [
        "t1 = Teacher('Jatin', 200000, 'Python')"
      ],
      "metadata": {
        "id": "-D_pgqzZSfwk"
      },
      "execution_count": 65,
      "outputs": []
    },
    {
      "cell_type": "code",
      "source": [
        "print(t1.salary)"
      ],
      "metadata": {
        "colab": {
          "base_uri": "https://localhost:8080/"
        },
        "id": "Thn6Jy7ESlyR",
        "outputId": "3522551c-e089-44e7-8a24-f8b854bdcbd8"
      },
      "execution_count": 66,
      "outputs": [
        {
          "output_type": "stream",
          "name": "stdout",
          "text": [
            "200000\n"
          ]
        }
      ]
    },
    {
      "cell_type": "code",
      "source": [
        "class BankAccount:\n",
        "  def __init__(self, startingBalance):\n",
        "    self.__balance = startingBalance\n",
        "\n",
        "  def deposit(self, amount):\n",
        "    self.__balance += amount\n",
        "\n",
        "  def withdraw(self, amount):\n",
        "    self.__balance -= amount\n",
        "  \n",
        "  def balance(self):\n",
        "    return self.__balance"
      ],
      "metadata": {
        "id": "p748OU1qSsXy"
      },
      "execution_count": 80,
      "outputs": []
    },
    {
      "cell_type": "code",
      "source": [
        "b1 = BankAccount(10000)"
      ],
      "metadata": {
        "id": "IEfx0w5mX8k1"
      },
      "execution_count": 81,
      "outputs": []
    },
    {
      "cell_type": "code",
      "source": [
        "b1.deposit(5000)"
      ],
      "metadata": {
        "id": "tTq_eGsrX_6z"
      },
      "execution_count": 82,
      "outputs": []
    },
    {
      "cell_type": "code",
      "source": [
        "b1.balance()"
      ],
      "metadata": {
        "colab": {
          "base_uri": "https://localhost:8080/"
        },
        "id": "dblskAUFYCsj",
        "outputId": "89fb670a-d9f7-4942-a92f-68d1f9c5988d"
      },
      "execution_count": 83,
      "outputs": [
        {
          "output_type": "execute_result",
          "data": {
            "text/plain": [
              "15000"
            ]
          },
          "metadata": {},
          "execution_count": 83
        }
      ]
    },
    {
      "cell_type": "markdown",
      "source": [
        "Name Mangling"
      ],
      "metadata": {
        "id": "tG8Z-iEpYsZZ"
      }
    },
    {
      "cell_type": "code",
      "source": [
        "b1._BankAccount__balance"
      ],
      "metadata": {
        "colab": {
          "base_uri": "https://localhost:8080/"
        },
        "id": "1ot7jS8PYm2h",
        "outputId": "82576516-2705-42f7-a4e3-e893550a231c"
      },
      "execution_count": 86,
      "outputs": [
        {
          "output_type": "execute_result",
          "data": {
            "text/plain": [
              "20000"
            ]
          },
          "metadata": {},
          "execution_count": 86
        }
      ]
    },
    {
      "cell_type": "code",
      "source": [
        "b1._BankAccount__balance = 20000"
      ],
      "metadata": {
        "id": "x0k4jamGYzg5"
      },
      "execution_count": 85,
      "outputs": []
    },
    {
      "cell_type": "code",
      "source": [
        "b1.withdraw(15000)"
      ],
      "metadata": {
        "id": "M0L-jzoUYDb5"
      },
      "execution_count": 72,
      "outputs": []
    },
    {
      "cell_type": "code",
      "source": [
        "b1.balance"
      ],
      "metadata": {
        "colab": {
          "base_uri": "https://localhost:8080/"
        },
        "id": "4bc8Dcp6YFyz",
        "outputId": "036f08e2-1e5b-4af7-81eb-ce434f97552d"
      },
      "execution_count": 73,
      "outputs": [
        {
          "output_type": "execute_result",
          "data": {
            "text/plain": [
              "0"
            ]
          },
          "metadata": {},
          "execution_count": 73
        }
      ]
    },
    {
      "cell_type": "code",
      "source": [
        "b1.balance = 10000"
      ],
      "metadata": {
        "id": "E1Ul9YwvYId_"
      },
      "execution_count": 74,
      "outputs": []
    },
    {
      "cell_type": "code",
      "source": [
        "b1.balance"
      ],
      "metadata": {
        "colab": {
          "base_uri": "https://localhost:8080/"
        },
        "id": "W87Bm6WzYKKc",
        "outputId": "5f9a1045-4cda-47fa-a3ec-b170b17bd43f"
      },
      "execution_count": 75,
      "outputs": [
        {
          "output_type": "execute_result",
          "data": {
            "text/plain": [
              "10000"
            ]
          },
          "metadata": {},
          "execution_count": 75
        }
      ]
    },
    {
      "cell_type": "code",
      "source": [
        "class A:\n",
        "  x = 10\n",
        "\n",
        "class B(A):\n",
        "  pass\n",
        "\n",
        "class C(B):\n",
        "  pass\n",
        "\n",
        "class D(A):\n",
        "  x = 5\n",
        "\n",
        "class E(C, D):\n",
        "  pass"
      ],
      "metadata": {
        "id": "OGgOOdDZYLVl"
      },
      "execution_count": 97,
      "outputs": []
    },
    {
      "cell_type": "code",
      "source": [
        "E.__mro__"
      ],
      "metadata": {
        "colab": {
          "base_uri": "https://localhost:8080/"
        },
        "id": "BDvHPaNvaGsI",
        "outputId": "18118412-7df8-4ae2-9d43-6aa53cb7aef2"
      },
      "execution_count": 98,
      "outputs": [
        {
          "output_type": "execute_result",
          "data": {
            "text/plain": [
              "(__main__.E, __main__.C, __main__.B, __main__.D, __main__.A, object)"
            ]
          },
          "metadata": {},
          "execution_count": 98
        }
      ]
    },
    {
      "cell_type": "code",
      "source": [
        "E.x"
      ],
      "metadata": {
        "colab": {
          "base_uri": "https://localhost:8080/"
        },
        "id": "RvP0ERGjaWlV",
        "outputId": "6dd0009e-e268-4188-8b78-0623caccc97f"
      },
      "execution_count": 99,
      "outputs": [
        {
          "output_type": "execute_result",
          "data": {
            "text/plain": [
              "5"
            ]
          },
          "metadata": {},
          "execution_count": 99
        }
      ]
    },
    {
      "cell_type": "code",
      "source": [
        "n = 6\n",
        "[[max(i,j) if i+j > n else n-(i+j)+max(i,j) for j in range(1,n)] for i in range(1,n)] "
      ],
      "metadata": {
        "colab": {
          "base_uri": "https://localhost:8080/"
        },
        "id": "JKzhdAPPcZrI",
        "outputId": "818385e6-5e7d-47bc-db15-c2a73f907133"
      },
      "execution_count": 101,
      "outputs": [
        {
          "output_type": "execute_result",
          "data": {
            "text/plain": [
              "[[5, 5, 5, 5, 5],\n",
              " [5, 4, 4, 4, 5],\n",
              " [5, 4, 3, 4, 5],\n",
              " [5, 4, 4, 4, 5],\n",
              " [5, 5, 5, 5, 5]]"
            ]
          },
          "metadata": {},
          "execution_count": 101
        }
      ]
    },
    {
      "cell_type": "code",
      "source": [
        "recur_add = lambda x: x + recur_add(x-1) if x > 0 else x"
      ],
      "metadata": {
        "id": "F-2f29Ykfow_"
      },
      "execution_count": 102,
      "outputs": []
    },
    {
      "cell_type": "code",
      "source": [
        "recur_add(5)"
      ],
      "metadata": {
        "colab": {
          "base_uri": "https://localhost:8080/"
        },
        "id": "HE7D_j3ohHPt",
        "outputId": "28cd3d70-9a64-4b4a-fe03-9a067af70270"
      },
      "execution_count": 103,
      "outputs": [
        {
          "output_type": "execute_result",
          "data": {
            "text/plain": [
              "15"
            ]
          },
          "metadata": {},
          "execution_count": 103
        }
      ]
    },
    {
      "cell_type": "code",
      "source": [
        "def func2(c, d):\n",
        "  return c, d \n",
        "\n",
        "def func1(a, b):\n",
        "  c = a\n",
        "  d = b\n",
        "  return lambda: func2(c,d) \n",
        "\n",
        "result = func1(1, 2) \n",
        "print(result())"
      ],
      "metadata": {
        "colab": {
          "base_uri": "https://localhost:8080/"
        },
        "id": "QtjcMhZ1hMfY",
        "outputId": "8b1619df-904e-4750-f79f-96ec9f553d4e"
      },
      "execution_count": 104,
      "outputs": [
        {
          "output_type": "stream",
          "name": "stdout",
          "text": [
            "(1, 2)\n"
          ]
        }
      ]
    },
    {
      "cell_type": "code",
      "source": [
        "emails = list(filter(lambda x: x.count('@') == 1, emails))\n",
        "verified_lex = []\n",
        "for i in emails:\n",
        "  e = i.split('@')\n",
        "  if len(e) == 2 and len(e[0]) <= 20 and len(e[0]) >= 1 and (not e[1].startswith('.')) and '.' in e[1]:\n",
        "    verified_lex.append(i)\n",
        "print(sorted(verified_lex))"
      ],
      "metadata": {
        "id": "nq1-zjpahls-"
      },
      "execution_count": null,
      "outputs": []
    },
    {
      "cell_type": "code",
      "source": [
        "import re"
      ],
      "metadata": {
        "id": "9djYdmGoiBgJ"
      },
      "execution_count": 105,
      "outputs": []
    },
    {
      "cell_type": "code",
      "source": [
        "emails = ['brian-23@scaler.com', 'brute_54@scaler.com', 'sarascaler.com', 's@a.co.in', 'sarascaler.@com', 'eren_voldig_yeager@gmail@rediffmail.com', 'yeagerist@google.co.in']\n",
        "re.match"
      ],
      "metadata": {
        "id": "6zXWs59wiCNm"
      },
      "execution_count": null,
      "outputs": []
    },
    {
      "cell_type": "code",
      "source": [
        "def func():\n",
        "  import re\n",
        "  print(\"Hello World\")"
      ],
      "metadata": {
        "id": "0FnNmjQciIcn"
      },
      "execution_count": 106,
      "outputs": []
    },
    {
      "cell_type": "code",
      "source": [
        "func()"
      ],
      "metadata": {
        "colab": {
          "base_uri": "https://localhost:8080/"
        },
        "id": "WmkhjY7JiL3Z",
        "outputId": "286d3803-60a1-4f64-928e-8ee84da7c57b"
      },
      "execution_count": 107,
      "outputs": [
        {
          "output_type": "stream",
          "name": "stdout",
          "text": [
            "Hello World\n"
          ]
        }
      ]
    },
    {
      "cell_type": "code",
      "source": [
        ""
      ],
      "metadata": {
        "id": "-CCD9zeriMcz"
      },
      "execution_count": null,
      "outputs": []
    }
  ]
}