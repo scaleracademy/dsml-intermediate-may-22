{
  "nbformat": 4,
  "nbformat_minor": 0,
  "metadata": {
    "colab": {
      "name": "Sorting 2",
      "provenance": [],
      "collapsed_sections": [],
      "authorship_tag": "ABX9TyP4Y7zxD3ygih1AxTaB6leZ",
      "include_colab_link": true
    },
    "kernelspec": {
      "name": "python3",
      "display_name": "Python 3"
    },
    "language_info": {
      "name": "python"
    }
  },
  "cells": [
    {
      "cell_type": "markdown",
      "metadata": {
        "id": "view-in-github",
        "colab_type": "text"
      },
      "source": [
        "<a href=\"https://colab.research.google.com/github/scaleracademy/dsml-intermediate-may-22/blob/main/Sorting_2.ipynb\" target=\"_parent\"><img src=\"https://colab.research.google.com/assets/colab-badge.svg\" alt=\"Open In Colab\"/></a>"
      ]
    },
    {
      "cell_type": "markdown",
      "source": [
        "## Correct Bubble Sort"
      ],
      "metadata": {
        "id": "lBZ-wIMgY6p1"
      }
    },
    {
      "cell_type": "code",
      "execution_count": null,
      "metadata": {
        "id": "R4KVrlAmUcFF"
      },
      "outputs": [],
      "source": [
        "for i in range(len(arr)):\n",
        "  sort = True\n",
        "  for j in range(len(arr)-i-1):\n",
        "    if arr[j] > arr[j+1]:\n",
        "      arr[j], arr[j+1] = arr[j+1], arr[j]\n",
        "      sort = False\n",
        "  if sort:\n",
        "    break"
      ]
    },
    {
      "cell_type": "code",
      "source": [
        ""
      ],
      "metadata": {
        "id": "03kk2G-MY9j8"
      },
      "execution_count": null,
      "outputs": []
    },
    {
      "cell_type": "markdown",
      "source": [
        "## Selection Sort"
      ],
      "metadata": {
        "id": "AnVMrMU7Y-LL"
      }
    },
    {
      "cell_type": "code",
      "source": [
        "arr = [5, 1, 2, 4, 3]"
      ],
      "metadata": {
        "id": "qdNIED6JY9Ne"
      },
      "execution_count": 4,
      "outputs": []
    },
    {
      "cell_type": "code",
      "source": [
        "def sort(arr, comparator = lambda a, b: a > b):\n",
        "  arr = arr.copy()\n",
        "\n",
        "  sorted = True\n",
        "  for i in range(len(arr)-1):\n",
        "    if comparator(arr[i], arr[i+1]):\n",
        "      sorted = False\n",
        "      break\n",
        "  \n",
        "  if sorted:\n",
        "    return arr\n",
        "\n",
        "  for i in range(len(arr)-1): # n-1\n",
        "    min_idx = i\n",
        "\n",
        "    for j in range(i+1, len(arr)):\n",
        "      if comparator(arr[min_idx], arr[j]):\n",
        "        min_idx = j\n",
        "    \n",
        "    if min_idx != i:\n",
        "      arr[i], arr[min_idx] = arr[min_idx], arr[i]\n",
        "\n",
        "  return arr"
      ],
      "metadata": {
        "id": "3IFbRt_sZCZ7"
      },
      "execution_count": 5,
      "outputs": []
    },
    {
      "cell_type": "code",
      "source": [
        "sort(arr, comparator = lambda a, b: a < b)"
      ],
      "metadata": {
        "colab": {
          "base_uri": "https://localhost:8080/"
        },
        "id": "KnOCXckaaubS",
        "outputId": "7dec2541-2c8a-4254-f02e-503967f8ae8a"
      },
      "execution_count": 7,
      "outputs": [
        {
          "output_type": "execute_result",
          "data": {
            "text/plain": [
              "[5, 4, 3, 2, 1]"
            ]
          },
          "metadata": {},
          "execution_count": 7
        }
      ]
    },
    {
      "cell_type": "code",
      "source": [
        "list(range(10, 0, -1))"
      ],
      "metadata": {
        "colab": {
          "base_uri": "https://localhost:8080/"
        },
        "id": "1pNGyMQUl3f3",
        "outputId": "dfab0098-9e91-4f2b-afc2-edcab80a0abe"
      },
      "execution_count": 8,
      "outputs": [
        {
          "output_type": "execute_result",
          "data": {
            "text/plain": [
              "[10, 9, 8, 7, 6, 5, 4, 3, 2, 1]"
            ]
          },
          "metadata": {},
          "execution_count": 8
        }
      ]
    },
    {
      "cell_type": "code",
      "source": [
        "def insertion_sort(arr):\n",
        "  arr = arr.copy()\n",
        "\n",
        "  for i in range(1, len(arr)): # n- 1\n",
        "    index_to_insert = i\n",
        "\n",
        "    for j in range(i-1, -1, -1):\n",
        "      if arr[j] < arr[index_to_insert]:\n",
        "        break\n",
        "      \n",
        "      arr[j], arr[index_to_insert] = arr[index_to_insert], arr[j]\n",
        "      index_to_insert = j\n",
        "\n",
        "  return arr\n"
      ],
      "metadata": {
        "id": "opTgcXbncnSY"
      },
      "execution_count": 9,
      "outputs": []
    },
    {
      "cell_type": "code",
      "source": [
        "insertion_sort(arr)"
      ],
      "metadata": {
        "colab": {
          "base_uri": "https://localhost:8080/"
        },
        "id": "5wvLOUbQmTs6",
        "outputId": "9df9fd24-9975-46b5-b174-0a11ea4f30f9"
      },
      "execution_count": 11,
      "outputs": [
        {
          "output_type": "execute_result",
          "data": {
            "text/plain": [
              "[1, 2, 3, 4, 5]"
            ]
          },
          "metadata": {},
          "execution_count": 11
        }
      ]
    },
    {
      "cell_type": "code",
      "source": [
        "arr = [1,4,5,6,7,8,9,2, 3]\n",
        "for i in range(1, len(arr)):\n",
        "  if arr[len(arr)-1] < arr[i]:\n",
        "    break\n",
        "arr = arr[:i] + [arr[len(arr)-1]] + arr[i+1:len(arr)-1]\n",
        "\n",
        "arr"
      ],
      "metadata": {
        "colab": {
          "base_uri": "https://localhost:8080/"
        },
        "id": "-Imyc1yYmVMo",
        "outputId": "aa8715c6-5cda-4a6d-b743-1d71f8bfafdd"
      },
      "execution_count": 16,
      "outputs": [
        {
          "output_type": "execute_result",
          "data": {
            "text/plain": [
              "[1, 3, 5, 6, 7, 8, 9, 2]"
            ]
          },
          "metadata": {},
          "execution_count": 16
        }
      ]
    },
    {
      "cell_type": "code",
      "source": [
        ""
      ],
      "metadata": {
        "id": "UFJIDpLOqTC1"
      },
      "execution_count": null,
      "outputs": []
    }
  ]
}